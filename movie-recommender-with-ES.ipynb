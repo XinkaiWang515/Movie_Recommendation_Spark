{
 "cells": [
  {
   "cell_type": "markdown",
   "metadata": {},
   "source": [
    "# Build a Movie Recommendation Engine with Apache Spark & Elasticsearch\n",
    "\n",
    "In this notebook, the aim is building a movie recommendation engine using Spark and Elasticsearch with movie rating data from Netflix.\n",
    "I train an alternative least square (**ALS**) model in Spark and export the model to Elasticsearch to display the recommendation results.\n",
    "\n",
    "\n",
    "## Overview\n",
    "\n",
    "Working steps\n",
    "\n",
    "1. Prepare the data\n",
    "2. Use the Elasticsearch Spark connector to save data to Elasticsearch\n",
    "3. Load ratings data and train an ALS recommendation model using Spark ML\n",
    "3. Save the model to Elasticsearch\n",
    "4. Show recommendations using Elasticsearch vector scoring plugin"
   ]
  },
  {
   "cell_type": "markdown",
   "metadata": {},
   "source": [
    "## Step 1: Prepare the data"
   ]
  },
  {
   "cell_type": "markdown",
   "metadata": {},
   "source": [
    "### 1(a) Data ETL and Exploration"
   ]
  },
  {
   "cell_type": "code",
   "execution_count": 2,
   "metadata": {},
   "outputs": [
    {
     "data": {
      "text/html": [
       "\n",
       "            <div>\n",
       "                <p><b>SparkSession - hive</b></p>\n",
       "                \n",
       "        <div>\n",
       "            <p><b>SparkContext</b></p>\n",
       "\n",
       "            <p><a href=\"http://172.31.98.165:4040\">Spark UI</a></p>\n",
       "\n",
       "            <dl>\n",
       "              <dt>Version</dt>\n",
       "                <dd><code>v2.4.4</code></dd>\n",
       "              <dt>Master</dt>\n",
       "                <dd><code>local[*]</code></dd>\n",
       "              <dt>AppName</dt>\n",
       "                <dd><code>PySparkShell</code></dd>\n",
       "            </dl>\n",
       "        </div>\n",
       "        \n",
       "            </div>\n",
       "        "
      ],
      "text/plain": [
       "<pyspark.sql.session.SparkSession at 0x10c3a53c8>"
      ]
     },
     "execution_count": 2,
     "metadata": {},
     "output_type": "execute_result"
    }
   ],
   "source": [
    "# first import a few utility methods that we'll use later on\n",
    "from IPython.display import Image, HTML, display\n",
    "# check PySpark is running\n",
    "spark"
   ]
  },
  {
   "cell_type": "code",
   "execution_count": 3,
   "metadata": {},
   "outputs": [],
   "source": [
    "import math\n",
    "import matplotlib.pyplot as plt\n",
    "%matplotlib inline\n",
    "import numpy as np\n",
    "import pandas as pd\n",
    "import re\n",
    "import seaborn as sns"
   ]
  },
  {
   "cell_type": "code",
   "execution_count": 4,
   "metadata": {},
   "outputs": [],
   "source": [
    "from pyspark.sql import SparkSession\n",
    "spark = SparkSession \\\n",
    "    .builder \\\n",
    "    .appName(\"moive analysis\") \\\n",
    "    .config(\"spark.some.config.option\", \"some-value\") \\\n",
    "    .getOrCreate()"
   ]
  },
  {
   "cell_type": "markdown",
   "metadata": {},
   "source": [
    "### Load rating and movie data"
   ]
  },
  {
   "cell_type": "code",
   "execution_count": 5,
   "metadata": {},
   "outputs": [],
   "source": [
    "movies = spark.read.load(\"../../../ml-latest/movies.csv\", format='csv', header = True)\n",
    "ratings = spark.read.load(\"../../../ml-latest/ratings.csv\", format='csv', header = True)\n",
    "links = spark.read.load(\"../../../ml-latest/links.csv\", format='csv', header = True)\n",
    "tags = spark.read.load(\"../../../ml-latest/tags.csv\", format='csv', header = True)"
   ]
  },
  {
   "cell_type": "code",
   "execution_count": 6,
   "metadata": {},
   "outputs": [
    {
     "name": "stdout",
     "output_type": "stream",
     "text": [
      "Number of ratings: 27753444\n",
      "Sample of ratings:\n",
      "+------+-------+------+----------+\n",
      "|userId|movieId|rating| timestamp|\n",
      "+------+-------+------+----------+\n",
      "|     1|    307|   3.5|1256677221|\n",
      "|     1|    481|   3.5|1256677456|\n",
      "|     1|   1091|   1.5|1256677471|\n",
      "|     1|   1257|   4.5|1256677460|\n",
      "|     1|   1449|   4.5|1256677264|\n",
      "+------+-------+------+----------+\n",
      "only showing top 5 rows\n",
      "\n"
     ]
    }
   ],
   "source": [
    "print(\"Number of ratings: %i\" % ratings.count())\n",
    "print(\"Sample of ratings:\")\n",
    "ratings.show(5)"
   ]
  },
  {
   "cell_type": "markdown",
   "metadata": {},
   "source": [
    "We need to convert `timestamp` from a **UNIX** timestamp in seconds to that in **milliseconds** in order to match the requirement of Elasticsearch"
   ]
  },
  {
   "cell_type": "code",
   "execution_count": 7,
   "metadata": {},
   "outputs": [
    {
     "name": "stdout",
     "output_type": "stream",
     "text": [
      "+------+-------+------+-------------+\n",
      "|userId|movieId|rating|    timestamp|\n",
      "+------+-------+------+-------------+\n",
      "|     1|    307|   3.5|1256677221000|\n",
      "|     1|    481|   3.5|1256677456000|\n",
      "|     1|   1091|   1.5|1256677471000|\n",
      "|     1|   1257|   4.5|1256677460000|\n",
      "|     1|   1449|   4.5|1256677264000|\n",
      "+------+-------+------+-------------+\n",
      "only showing top 5 rows\n",
      "\n"
     ]
    }
   ],
   "source": [
    "ratings = ratings.select(\n",
    "    ratings.userId, ratings.movieId, ratings.rating, (ratings.timestamp.cast(\"long\") * 1000).alias(\"timestamp\"))\n",
    "ratings.show(5)"
   ]
  },
  {
   "cell_type": "code",
   "execution_count": 8,
   "metadata": {},
   "outputs": [
    {
     "name": "stdout",
     "output_type": "stream",
     "text": [
      "information about ratings:\n",
      "+-------+------------------+------------------+------------------+--------------------+\n",
      "|summary|            userId|           movieId|            rating|           timestamp|\n",
      "+-------+------------------+------------------+------------------+--------------------+\n",
      "|  count|          27753444|          27753444|          27753444|            27753444|\n",
      "|   mean|141942.01557064414| 18487.99983414671|3.5304452124932677|1.193121854931938...|\n",
      "| stddev|   81707.400091494|35102.625247468335| 1.066352750231989| 2.16048228522343E11|\n",
      "|    min|                 1|                 1|               0.5|        789652004000|\n",
      "|    max|             99999|             99999|               5.0|       1537945149000|\n",
      "+-------+------------------+------------------+------------------+--------------------+\n",
      "\n"
     ]
    }
   ],
   "source": [
    "print(\"information about ratings:\")\n",
    "ratings.describe().show()"
   ]
  },
  {
   "cell_type": "code",
   "execution_count": 9,
   "metadata": {},
   "outputs": [
    {
     "name": "stdout",
     "output_type": "stream",
     "text": [
      "there is 0 null in ratings\n"
     ]
    }
   ],
   "source": [
    "print(\"there is %d null in ratings\" % ratings.where(ratings['rating'].isNull()).count())"
   ]
  },
  {
   "cell_type": "code",
   "execution_count": 10,
   "metadata": {},
   "outputs": [
    {
     "name": "stdout",
     "output_type": "stream",
     "text": [
      "For the users that rated movies and the movies that were rated:\n",
      "Minimum number of ratings per user is 1\n",
      "Maximum number of ratings per user is 23715\n",
      "Minimum number of ratings per movie is 1\n",
      "Maximum number of ratings per movie is 97999\n"
     ]
    }
   ],
   "source": [
    "tmp_user_min = ratings.groupBy(\"userID\").count().toPandas()['count'].min()\n",
    "tmp_user_max = ratings.groupBy(\"userID\").count().toPandas()['count'].max()\n",
    "tmp_movie_min = ratings.groupBy(\"movieId\").count().toPandas()['count'].min()\n",
    "tmp_movie_max = ratings.groupBy(\"movieId\").count().toPandas()['count'].max()\n",
    "print('For the users that rated movies and the movies that were rated:')\n",
    "print('Minimum number of ratings per user is {}'.format(tmp_user_min))\n",
    "print('Maximum number of ratings per user is {}'.format(tmp_user_max))\n",
    "print('Minimum number of ratings per movie is {}'.format(tmp_movie_min))\n",
    "print('Maximum number of ratings per movie is {}'.format(tmp_movie_max))"
   ]
  },
  {
   "cell_type": "code",
   "execution_count": 11,
   "metadata": {},
   "outputs": [
    {
     "name": "stdout",
     "output_type": "stream",
     "text": [
      "10155 out of 53889 movies are rated by only one user\n"
     ]
    }
   ],
   "source": [
    "tmp1 = sum(ratings.groupBy(\"movieId\").count().toPandas()['count'] == 1)\n",
    "tmp2 = ratings.select('movieId').distinct().count()\n",
    "print('{} out of {} movies are rated by only one user'.format(tmp1, tmp2))"
   ]
  },
  {
   "cell_type": "code",
   "execution_count": 12,
   "metadata": {},
   "outputs": [
    {
     "name": "stdout",
     "output_type": "stream",
     "text": [
      "+-------+----------------------------------+-------------------------------------------+\n",
      "|movieId|title                             |genres                                     |\n",
      "+-------+----------------------------------+-------------------------------------------+\n",
      "|1      |Toy Story (1995)                  |Adventure|Animation|Children|Comedy|Fantasy|\n",
      "|2      |Jumanji (1995)                    |Adventure|Children|Fantasy                 |\n",
      "|3      |Grumpier Old Men (1995)           |Comedy|Romance                             |\n",
      "|4      |Waiting to Exhale (1995)          |Comedy|Drama|Romance                       |\n",
      "|5      |Father of the Bride Part II (1995)|Comedy                                     |\n",
      "+-------+----------------------------------+-------------------------------------------+\n",
      "only showing top 5 rows\n",
      "\n"
     ]
    }
   ],
   "source": [
    "movies.show(5, truncate=False)"
   ]
  },
  {
   "cell_type": "code",
   "execution_count": 13,
   "metadata": {},
   "outputs": [],
   "source": [
    "from pyspark.sql.functions import udf\n",
    "from pyspark.sql.types import *"
   ]
  },
  {
   "cell_type": "markdown",
   "metadata": {},
   "source": [
    "### Split the release year from title so that it can be used as filter for recommendation engine."
   ]
  },
  {
   "cell_type": "code",
   "execution_count": 14,
   "metadata": {},
   "outputs": [],
   "source": [
    "import re\n",
    "# define a UDF to extract the release year from the title, and return the new title and year in a struct type\n",
    "def extract_year_fn(title):\n",
    "    result = re.search(\"\\(\\d{4}\\)\", title)\n",
    "    try:\n",
    "        if result:\n",
    "            group = result.group()\n",
    "            year = group[1:-1]\n",
    "            start_pos = result.start()\n",
    "            title = title[:start_pos-1]\n",
    "            return (title, year)\n",
    "        else:\n",
    "            return (title, None)\n",
    "    except:\n",
    "        print(title)\n",
    "\n",
    "extract_year = udf(extract_year_fn,\\\n",
    "                   StructType([StructField(\"title\", StringType(), True),\\\n",
    "                               StructField(\"release_date\", StringType(), True)]))\n"
   ]
  },
  {
   "cell_type": "code",
   "execution_count": 15,
   "metadata": {},
   "outputs": [
    {
     "name": "stdout",
     "output_type": "stream",
     "text": [
      "Cleaned movie data:\n",
      "+-------+---------------------------+------------+-------------------------------------------+\n",
      "|movieId|title                      |release_date|genres                                     |\n",
      "+-------+---------------------------+------------+-------------------------------------------+\n",
      "|1      |Toy Story                  |1995        |Adventure|Animation|Children|Comedy|Fantasy|\n",
      "|2      |Jumanji                    |1995        |Adventure|Children|Fantasy                 |\n",
      "|3      |Grumpier Old Men           |1995        |Comedy|Romance                             |\n",
      "|4      |Waiting to Exhale          |1995        |Comedy|Drama|Romance                       |\n",
      "|5      |Father of the Bride Part II|1995        |Comedy                                     |\n",
      "+-------+---------------------------+------------+-------------------------------------------+\n",
      "only showing top 5 rows\n",
      "\n"
     ]
    }
   ],
   "source": [
    "movies = movies.select(\n",
    "    \"movieId\", extract_year(\"title\").title.alias(\"title\"),\\\n",
    "    extract_year(\"title\").release_date.alias(\"release_date\"),\\\n",
    "    \"genres\")\n",
    "print(\"Cleaned movie data:\")\n",
    "movies.show(5, truncate=False)"
   ]
  },
  {
   "cell_type": "markdown",
   "metadata": {},
   "source": [
    "Next, join the `links` data to `movies` to get tmdbId which can be used to retrieve movie poster images when displaying recommendations later."
   ]
  },
  {
   "cell_type": "code",
   "execution_count": 16,
   "metadata": {},
   "outputs": [
    {
     "name": "stdout",
     "output_type": "stream",
     "text": [
      "Cleaned movie data with tmdbId links:\n",
      "+-------+---------------------------+------------+-------------------------------------------+------+\n",
      "|movieId|title                      |release_date|genres                                     |tmdbId|\n",
      "+-------+---------------------------+------------+-------------------------------------------+------+\n",
      "|1      |Toy Story                  |1995        |Adventure|Animation|Children|Comedy|Fantasy|862   |\n",
      "|2      |Jumanji                    |1995        |Adventure|Children|Fantasy                 |8844  |\n",
      "|3      |Grumpier Old Men           |1995        |Comedy|Romance                             |15602 |\n",
      "|4      |Waiting to Exhale          |1995        |Comedy|Drama|Romance                       |31357 |\n",
      "|5      |Father of the Bride Part II|1995        |Comedy                                     |11862 |\n",
      "+-------+---------------------------+------------+-------------------------------------------+------+\n",
      "only showing top 5 rows\n",
      "\n"
     ]
    }
   ],
   "source": [
    "# join movies with links to get TMDB id\n",
    "movie_data = movies.join(links, movies.movieId == links.movieId)\\\n",
    "    .select(movies.movieId, movies.title, movies.release_date, movies.genres, links.tmdbId)\n",
    "num_movies = movie_data.count()\n",
    "print(\"Cleaned movie data with tmdbId links:\")\n",
    "movie_data.show(5, truncate=False)"
   ]
  },
  {
   "cell_type": "markdown",
   "metadata": {},
   "source": [
    "### 1(b) Spark SQL and OLAP"
   ]
  },
  {
   "cell_type": "code",
   "execution_count": 17,
   "metadata": {},
   "outputs": [],
   "source": [
    "ratings = ratings.withColumn(\"userId\", ratings[\"userId\"].cast(LongType()))\n",
    "ratings = ratings.withColumn(\"movieId\", ratings[\"movieId\"].cast(LongType()))\n",
    "ratings = ratings.withColumn(\"rating\", ratings[\"rating\"].cast(FloatType()))"
   ]
  },
  {
   "cell_type": "code",
   "execution_count": 18,
   "metadata": {},
   "outputs": [],
   "source": [
    "movies.createOrReplaceTempView('movies')\n",
    "ratings.createOrReplaceTempView('ratings')"
   ]
  },
  {
   "cell_type": "code",
   "execution_count": 19,
   "metadata": {},
   "outputs": [],
   "source": [
    "from IPython.core.magic import register_line_cell_magic\n",
    "\n",
    "max_show_lines = 20         # Limit on the number of lines to show with %sql_show and %sql_display\n",
    "\n",
    "@register_line_cell_magic\n",
    "def sql(line, cell=None):\n",
    "    \"Return a Spark DataFrame for lazy evaluation of the sql. Use: %sql or %%sql\"\n",
    "    val = cell if cell is not None else line \n",
    "    return spark.sql(val)\n",
    "\n",
    "@register_line_cell_magic\n",
    "def sql_show(line, cell=None):\n",
    "    \"Execute sql and show the first max_show_lines lines. Use: %sql_show or %%sql_show\"\n",
    "    val = cell if cell is not None else line \n",
    "    return spark.sql(val).show(max_show_lines)\n",
    "\n",
    "@register_line_cell_magic\n",
    "def sql_display(line, cell=None):\n",
    "    \"\"\"Execute sql and convert results to Pandas DataFrame for pretty display or further processing.\n",
    "    Use: %sql_display or %%sql_display\"\"\"\n",
    "    val = cell if cell is not None else line \n",
    "    return spark.sql(val).limit(max_show_lines).toPandas() "
   ]
  },
  {
   "cell_type": "markdown",
   "metadata": {},
   "source": [
    "### The number of users"
   ]
  },
  {
   "cell_type": "code",
   "execution_count": 20,
   "metadata": {},
   "outputs": [
    {
     "name": "stdout",
     "output_type": "stream",
     "text": [
      "number of users are: 283228\n",
      "total rating number is: 27753444\n"
     ]
    }
   ],
   "source": [
    "num_user = ratings.select('userId').distinct().count()\n",
    "num_rating = ratings.select('rating').count()\n",
    "print('number of users are: {}'.format(num_user))\n",
    "print('total rating number is: {}'.format(num_rating))"
   ]
  },
  {
   "cell_type": "markdown",
   "metadata": {},
   "source": [
    "### The number of movies"
   ]
  },
  {
   "cell_type": "code",
   "execution_count": 21,
   "metadata": {},
   "outputs": [
    {
     "name": "stdout",
     "output_type": "stream",
     "text": [
      "number of Movies are: 58098\n"
     ]
    }
   ],
   "source": [
    "num_mv = movies.select('movieId').distinct().count()\n",
    "print('number of Movies are: {}'.format(num_mv))"
   ]
  },
  {
   "cell_type": "markdown",
   "metadata": {},
   "source": [
    "### Number of movies rated by users. Also list movies not rated before (for better visualization, only show 20 movies of them)."
   ]
  },
  {
   "cell_type": "code",
   "execution_count": 22,
   "metadata": {},
   "outputs": [
    {
     "name": "stdout",
     "output_type": "stream",
     "text": [
      "+---------+\n",
      "|rated_num|\n",
      "+---------+\n",
      "|    53889|\n",
      "+---------+\n",
      "\n"
     ]
    }
   ],
   "source": [
    "%%sql_show\n",
    "\n",
    "Select count(distinct movieId) as rated_num\n",
    "From ratings\n",
    "Where rating is not null"
   ]
  },
  {
   "cell_type": "code",
   "execution_count": 23,
   "metadata": {},
   "outputs": [
    {
     "data": {
      "text/html": [
       "<div>\n",
       "<style scoped>\n",
       "    .dataframe tbody tr th:only-of-type {\n",
       "        vertical-align: middle;\n",
       "    }\n",
       "\n",
       "    .dataframe tbody tr th {\n",
       "        vertical-align: top;\n",
       "    }\n",
       "\n",
       "    .dataframe thead th {\n",
       "        text-align: right;\n",
       "    }\n",
       "</style>\n",
       "<table border=\"1\" class=\"dataframe\">\n",
       "  <thead>\n",
       "    <tr style=\"text-align: right;\">\n",
       "      <th></th>\n",
       "      <th>movieId</th>\n",
       "      <th>title</th>\n",
       "    </tr>\n",
       "  </thead>\n",
       "  <tbody>\n",
       "    <tr>\n",
       "      <td>0</td>\n",
       "      <td>100609</td>\n",
       "      <td>Fambul Tok</td>\n",
       "    </tr>\n",
       "    <tr>\n",
       "      <td>1</td>\n",
       "      <td>100642</td>\n",
       "      <td>Sunday Lovers</td>\n",
       "    </tr>\n",
       "    <tr>\n",
       "      <td>2</td>\n",
       "      <td>101216</td>\n",
       "      <td>Shadow Boxers</td>\n",
       "    </tr>\n",
       "    <tr>\n",
       "      <td>3</td>\n",
       "      <td>101229</td>\n",
       "      <td>May the Best Man Win</td>\n",
       "    </tr>\n",
       "    <tr>\n",
       "      <td>4</td>\n",
       "      <td>101237</td>\n",
       "      <td>9500 Liberty</td>\n",
       "    </tr>\n",
       "    <tr>\n",
       "      <td>5</td>\n",
       "      <td>101369</td>\n",
       "      <td>Shadow Zone: My Teacher Ate My Homework</td>\n",
       "    </tr>\n",
       "    <tr>\n",
       "      <td>6</td>\n",
       "      <td>101391</td>\n",
       "      <td>Ascent, The</td>\n",
       "    </tr>\n",
       "    <tr>\n",
       "      <td>7</td>\n",
       "      <td>101407</td>\n",
       "      <td>Laffghanistan: Comedy Down Range</td>\n",
       "    </tr>\n",
       "    <tr>\n",
       "      <td>8</td>\n",
       "      <td>101437</td>\n",
       "      <td>Baby Dance, The</td>\n",
       "    </tr>\n",
       "    <tr>\n",
       "      <td>9</td>\n",
       "      <td>101441</td>\n",
       "      <td>Inspectors 2: A Shred of Evidence, The</td>\n",
       "    </tr>\n",
       "    <tr>\n",
       "      <td>10</td>\n",
       "      <td>101472</td>\n",
       "      <td>Brussels Business, The</td>\n",
       "    </tr>\n",
       "    <tr>\n",
       "      <td>11</td>\n",
       "      <td>102082</td>\n",
       "      <td>Always in My Heart</td>\n",
       "    </tr>\n",
       "    <tr>\n",
       "      <td>12</td>\n",
       "      <td>102135</td>\n",
       "      <td>Sadda Haq</td>\n",
       "    </tr>\n",
       "    <tr>\n",
       "      <td>13</td>\n",
       "      <td>102150</td>\n",
       "      <td>Angel from Texas, An</td>\n",
       "    </tr>\n",
       "    <tr>\n",
       "      <td>14</td>\n",
       "      <td>102192</td>\n",
       "      <td>Successful Calamity, A</td>\n",
       "    </tr>\n",
       "    <tr>\n",
       "      <td>15</td>\n",
       "      <td>102475</td>\n",
       "      <td>Anne B. Real</td>\n",
       "    </tr>\n",
       "    <tr>\n",
       "      <td>16</td>\n",
       "      <td>103968</td>\n",
       "      <td>And Baby Makes Three (Baby Is Here)</td>\n",
       "    </tr>\n",
       "    <tr>\n",
       "      <td>17</td>\n",
       "      <td>103970</td>\n",
       "      <td>And So They Were Married (Bless Their Hearts)</td>\n",
       "    </tr>\n",
       "    <tr>\n",
       "      <td>18</td>\n",
       "      <td>104024</td>\n",
       "      <td>Annie O</td>\n",
       "    </tr>\n",
       "    <tr>\n",
       "      <td>19</td>\n",
       "      <td>104026</td>\n",
       "      <td>Another Face (Two Faces)</td>\n",
       "    </tr>\n",
       "  </tbody>\n",
       "</table>\n",
       "</div>"
      ],
      "text/plain": [
       "   movieId                                          title\n",
       "0   100609                                     Fambul Tok\n",
       "1   100642                                  Sunday Lovers\n",
       "2   101216                                  Shadow Boxers\n",
       "3   101229                           May the Best Man Win\n",
       "4   101237                                   9500 Liberty\n",
       "5   101369        Shadow Zone: My Teacher Ate My Homework\n",
       "6   101391                                    Ascent, The\n",
       "7   101407               Laffghanistan: Comedy Down Range\n",
       "8   101437                                Baby Dance, The\n",
       "9   101441         Inspectors 2: A Shred of Evidence, The\n",
       "10  101472                         Brussels Business, The\n",
       "11  102082                             Always in My Heart\n",
       "12  102135                                      Sadda Haq\n",
       "13  102150                           Angel from Texas, An\n",
       "14  102192                         Successful Calamity, A\n",
       "15  102475                                   Anne B. Real\n",
       "16  103968            And Baby Makes Three (Baby Is Here)\n",
       "17  103970  And So They Were Married (Bless Their Hearts)\n",
       "18  104024                                        Annie O\n",
       "19  104026                       Another Face (Two Faces)"
      ]
     },
     "execution_count": 23,
     "metadata": {},
     "output_type": "execute_result"
    }
   ],
   "source": [
    "%%sql_display\n",
    "\n",
    "Select distinct m.movieId, title\n",
    "From movies m\n",
    "Left Join ratings r on m.movieId=r.movieId\n",
    "Where r.rating is null\n",
    "Order by movieId"
   ]
  },
  {
   "cell_type": "markdown",
   "metadata": {},
   "source": [
    "### Conclusion 1\n",
    "\n",
    "In this dataset, we have 58098 movies, only 53889 of them are rated. There are 4209 of them are not rated by users."
   ]
  },
  {
   "cell_type": "markdown",
   "metadata": {},
   "source": [
    "### List movie genres"
   ]
  },
  {
   "cell_type": "code",
   "execution_count": 24,
   "metadata": {},
   "outputs": [
    {
     "data": {
      "text/html": [
       "<div>\n",
       "<style scoped>\n",
       "    .dataframe tbody tr th:only-of-type {\n",
       "        vertical-align: middle;\n",
       "    }\n",
       "\n",
       "    .dataframe tbody tr th {\n",
       "        vertical-align: top;\n",
       "    }\n",
       "\n",
       "    .dataframe thead th {\n",
       "        text-align: right;\n",
       "    }\n",
       "</style>\n",
       "<table border=\"1\" class=\"dataframe\">\n",
       "  <thead>\n",
       "    <tr style=\"text-align: right;\">\n",
       "      <th></th>\n",
       "      <th>categories</th>\n",
       "    </tr>\n",
       "  </thead>\n",
       "  <tbody>\n",
       "    <tr>\n",
       "      <td>0</td>\n",
       "      <td>Crime</td>\n",
       "    </tr>\n",
       "    <tr>\n",
       "      <td>1</td>\n",
       "      <td>Romance</td>\n",
       "    </tr>\n",
       "    <tr>\n",
       "      <td>2</td>\n",
       "      <td>Thriller</td>\n",
       "    </tr>\n",
       "    <tr>\n",
       "      <td>3</td>\n",
       "      <td>Adventure</td>\n",
       "    </tr>\n",
       "    <tr>\n",
       "      <td>4</td>\n",
       "      <td>Drama</td>\n",
       "    </tr>\n",
       "    <tr>\n",
       "      <td>5</td>\n",
       "      <td>War</td>\n",
       "    </tr>\n",
       "    <tr>\n",
       "      <td>6</td>\n",
       "      <td>Documentary</td>\n",
       "    </tr>\n",
       "    <tr>\n",
       "      <td>7</td>\n",
       "      <td>Fantasy</td>\n",
       "    </tr>\n",
       "    <tr>\n",
       "      <td>8</td>\n",
       "      <td>Mystery</td>\n",
       "    </tr>\n",
       "    <tr>\n",
       "      <td>9</td>\n",
       "      <td>Musical</td>\n",
       "    </tr>\n",
       "    <tr>\n",
       "      <td>10</td>\n",
       "      <td>Animation</td>\n",
       "    </tr>\n",
       "    <tr>\n",
       "      <td>11</td>\n",
       "      <td>Film-Noir</td>\n",
       "    </tr>\n",
       "    <tr>\n",
       "      <td>12</td>\n",
       "      <td>(no genres listed)</td>\n",
       "    </tr>\n",
       "    <tr>\n",
       "      <td>13</td>\n",
       "      <td>IMAX</td>\n",
       "    </tr>\n",
       "    <tr>\n",
       "      <td>14</td>\n",
       "      <td>Horror</td>\n",
       "    </tr>\n",
       "    <tr>\n",
       "      <td>15</td>\n",
       "      <td>Western</td>\n",
       "    </tr>\n",
       "    <tr>\n",
       "      <td>16</td>\n",
       "      <td>Comedy</td>\n",
       "    </tr>\n",
       "    <tr>\n",
       "      <td>17</td>\n",
       "      <td>Children</td>\n",
       "    </tr>\n",
       "    <tr>\n",
       "      <td>18</td>\n",
       "      <td>Action</td>\n",
       "    </tr>\n",
       "    <tr>\n",
       "      <td>19</td>\n",
       "      <td>Sci-Fi</td>\n",
       "    </tr>\n",
       "  </tbody>\n",
       "</table>\n",
       "</div>"
      ],
      "text/plain": [
       "            categories\n",
       "0                Crime\n",
       "1              Romance\n",
       "2             Thriller\n",
       "3            Adventure\n",
       "4                Drama\n",
       "5                  War\n",
       "6          Documentary\n",
       "7              Fantasy\n",
       "8              Mystery\n",
       "9              Musical\n",
       "10           Animation\n",
       "11           Film-Noir\n",
       "12  (no genres listed)\n",
       "13                IMAX\n",
       "14              Horror\n",
       "15             Western\n",
       "16              Comedy\n",
       "17            Children\n",
       "18              Action\n",
       "19              Sci-Fi"
      ]
     },
     "execution_count": 24,
     "metadata": {},
     "output_type": "execute_result"
    }
   ],
   "source": [
    "%%sql_display\n",
    "\n",
    "Select distinct explode(split(genres,'\\\\|')) as categories\n",
    "From movies"
   ]
  },
  {
   "cell_type": "markdown",
   "metadata": {},
   "source": [
    "### Number of movies and average rating for each category"
   ]
  },
  {
   "cell_type": "code",
   "execution_count": 25,
   "metadata": {},
   "outputs": [],
   "source": [
    "categories = spark.sql(\n",
    "                   '''Select cte.category, count(*) as rate_num, avg(rating) as avg_rate\n",
    "                      From movies m\n",
    "                      Join\n",
    "                        (Select movieId, title, explode(split(genres,'\\\\\\\\|')) as category\n",
    "                        From movies) cte\n",
    "                      on m.movieId=cte.movieId\n",
    "                      Join ratings r on m.movieId=r.movieId\n",
    "                      Group by cte.category\n",
    "                      Order by 2 Desc''')"
   ]
  },
  {
   "cell_type": "code",
   "execution_count": 26,
   "metadata": {},
   "outputs": [
    {
     "name": "stdout",
     "output_type": "stream",
     "text": [
      "+------------------+--------+------------------+\n",
      "|          category|rate_num|          avg_rate|\n",
      "+------------------+--------+------------------+\n",
      "|             Drama|12191048|3.6763707271105814|\n",
      "|            Comedy| 9999184| 3.419786704595095|\n",
      "|            Action| 8214956|3.4625655329133838|\n",
      "|          Thriller| 7489628|3.5188010672893233|\n",
      "|         Adventure| 6452309|3.5132836167641694|\n",
      "|           Romance| 5078478| 3.541861853098507|\n",
      "|            Sci-Fi| 4740208|3.4704759791131528|\n",
      "|             Crime| 4631581| 3.683522430029832|\n",
      "|           Fantasy| 3118549|  3.50720832027972|\n",
      "|          Children| 2381124| 3.423892875801512|\n",
      "|           Mystery| 2210388|3.6655695742105006|\n",
      "|            Horror| 2070791|3.2843780468429697|\n",
      "|         Animation| 1803041| 3.607309262518157|\n",
      "|               War| 1426112| 3.796596971345869|\n",
      "|           Musical| 1109674|3.5427517451071218|\n",
      "|              IMAX| 1102179|3.6189756836230775|\n",
      "|           Western|  542424|3.5776726324793886|\n",
      "|       Documentary|  345471|3.7108599564073397|\n",
      "|         Film-Noir|  272742| 3.928678018053692|\n",
      "|(no genres listed)|   18389|3.2913970308336506|\n",
      "+------------------+--------+------------------+\n",
      "\n"
     ]
    }
   ],
   "source": [
    "categories.show()"
   ]
  },
  {
   "cell_type": "code",
   "execution_count": 108,
   "metadata": {},
   "outputs": [
    {
     "data": {
      "text/plain": [
       "<matplotlib.legend.Legend at 0x113038710>"
      ]
     },
     "execution_count": 108,
     "metadata": {},
     "output_type": "execute_result"
    },
    {
     "data": {
      "image/png": "[encoded data removed]",
      "text/plain": [
       "<Figure size 720x432 with 2 Axes>"
      ]
     },
     "metadata": {
      "needs_background": "light"
     },
     "output_type": "display_data"
    }
   ],
   "source": [
    "fig, (ax1, ax2) = plt.subplots(figsize=(10,6), ncols=2, constrained_layout=True)\n",
    "categories_p = categories.toPandas()\n",
    "\n",
    "xticks = [cate[0] for cate in categories.select(\"category\").collect()]\n",
    "\n",
    "ax1.plot('category','avg_rate',data=categories_p)\n",
    "# plt.plot('iter_num','validation_mse',data=categories_p)\n",
    "ax1.set_xlabel(\"categories\")\n",
    "ax1.set_xticklabels(xticks,rotation=90)\n",
    "ax1.set_ylabel(\"average rating\")\n",
    "ax1.set_title(\"average rating for each category\", y=1.08)\n",
    "ax1.legend()\n",
    "\n",
    "ax2.plot('category','rate_num',data=categories_p)\n",
    "ax2.set_xlabel(\"categories\")\n",
    "ax2.set_xticklabels(xticks,rotation=90)\n",
    "ax2.set_ylabel(\"rating number\")\n",
    "ax2.set_title(\"rating number for each category\", y=1.08)\n",
    "ax2.legend()\n",
    "\n",
    "# fig.show()"
   ]
  },
  {
   "cell_type": "markdown",
   "metadata": {},
   "source": [
    "### Conclusion 2\n",
    "\n",
    "We have 20 categories of movies in the dataset. **Drama**, **Comedy** and **Action** are top 3 categories received most rating (around 10 million) by users. **Drama**, **Crime**, **Mystery**, **War** and **Film-Noir** are categories rated by relatively higher score. The average rating scores for all these categories are between 3.3 and 3.9 (rating in 0-5 range)."
   ]
  },
  {
   "cell_type": "markdown",
   "metadata": {},
   "source": [
    "### Number of each rating score"
   ]
  },
  {
   "cell_type": "code",
   "execution_count": 28,
   "metadata": {},
   "outputs": [],
   "source": [
    "rating_scores = spark.sql(\n",
    "                    '''Select rating, count(*) as num\n",
    "                    From ratings\n",
    "                    Group by rating\n",
    "                    Order by 1''')"
   ]
  },
  {
   "cell_type": "code",
   "execution_count": 29,
   "metadata": {},
   "outputs": [
    {
     "data": {
      "text/plain": [
       "Text(0.5,1,'Number of each rating score')"
      ]
     },
     "execution_count": 29,
     "metadata": {},
     "output_type": "execute_result"
    },
    {
     "data": {
      "image/png": "[encoded data removed]",
      "text/plain": [
       "<Figure size 720x432 with 1 Axes>"
      ]
     },
     "metadata": {
      "needs_background": "light"
     },
     "output_type": "display_data"
    }
   ],
   "source": [
    "rating_scores.toPandas().plot(figsize = (10,6), kind = \"bar\", color = \"blue\",\n",
    "                               x = \"rating\", y = \"num\", legend = False)\n",
    "\n",
    "plt.xlabel(\"rating score\", fontsize = 15)\n",
    "plt.ylabel(\"num of ratings\", fontsize = 15)\n",
    "plt.title(\"Number of each rating score\", fontsize = 20)"
   ]
  },
  {
   "cell_type": "markdown",
   "metadata": {},
   "source": [
    "### Top 1000 movies received the largest number of ratings"
   ]
  },
  {
   "cell_type": "code",
   "execution_count": 30,
   "metadata": {},
   "outputs": [
    {
     "data": {
      "text/html": [
       "<div>\n",
       "<style scoped>\n",
       "    .dataframe tbody tr th:only-of-type {\n",
       "        vertical-align: middle;\n",
       "    }\n",
       "\n",
       "    .dataframe tbody tr th {\n",
       "        vertical-align: top;\n",
       "    }\n",
       "\n",
       "    .dataframe thead th {\n",
       "        text-align: right;\n",
       "    }\n",
       "</style>\n",
       "<table border=\"1\" class=\"dataframe\">\n",
       "  <thead>\n",
       "    <tr style=\"text-align: right;\">\n",
       "      <th></th>\n",
       "      <th>movieId</th>\n",
       "      <th>title</th>\n",
       "      <th>release_date</th>\n",
       "      <th>rate_num</th>\n",
       "    </tr>\n",
       "  </thead>\n",
       "  <tbody>\n",
       "    <tr>\n",
       "      <td>0</td>\n",
       "      <td>318</td>\n",
       "      <td>Shawshank Redemption, The</td>\n",
       "      <td>1994</td>\n",
       "      <td>97999</td>\n",
       "    </tr>\n",
       "    <tr>\n",
       "      <td>1</td>\n",
       "      <td>356</td>\n",
       "      <td>Forrest Gump</td>\n",
       "      <td>1994</td>\n",
       "      <td>97040</td>\n",
       "    </tr>\n",
       "    <tr>\n",
       "      <td>2</td>\n",
       "      <td>296</td>\n",
       "      <td>Pulp Fiction</td>\n",
       "      <td>1994</td>\n",
       "      <td>92406</td>\n",
       "    </tr>\n",
       "    <tr>\n",
       "      <td>3</td>\n",
       "      <td>593</td>\n",
       "      <td>Silence of the Lambs, The</td>\n",
       "      <td>1991</td>\n",
       "      <td>87899</td>\n",
       "    </tr>\n",
       "    <tr>\n",
       "      <td>4</td>\n",
       "      <td>2571</td>\n",
       "      <td>Matrix, The</td>\n",
       "      <td>1999</td>\n",
       "      <td>84545</td>\n",
       "    </tr>\n",
       "    <tr>\n",
       "      <td>5</td>\n",
       "      <td>260</td>\n",
       "      <td>Star Wars: Episode IV - A New Hope</td>\n",
       "      <td>1977</td>\n",
       "      <td>81815</td>\n",
       "    </tr>\n",
       "    <tr>\n",
       "      <td>6</td>\n",
       "      <td>480</td>\n",
       "      <td>Jurassic Park</td>\n",
       "      <td>1993</td>\n",
       "      <td>76451</td>\n",
       "    </tr>\n",
       "    <tr>\n",
       "      <td>7</td>\n",
       "      <td>527</td>\n",
       "      <td>Schindler's List</td>\n",
       "      <td>1993</td>\n",
       "      <td>71516</td>\n",
       "    </tr>\n",
       "    <tr>\n",
       "      <td>8</td>\n",
       "      <td>110</td>\n",
       "      <td>Braveheart</td>\n",
       "      <td>1995</td>\n",
       "      <td>68803</td>\n",
       "    </tr>\n",
       "    <tr>\n",
       "      <td>9</td>\n",
       "      <td>1</td>\n",
       "      <td>Toy Story</td>\n",
       "      <td>1995</td>\n",
       "      <td>68469</td>\n",
       "    </tr>\n",
       "    <tr>\n",
       "      <td>10</td>\n",
       "      <td>1210</td>\n",
       "      <td>Star Wars: Episode VI - Return of the Jedi</td>\n",
       "      <td>1983</td>\n",
       "      <td>66023</td>\n",
       "    </tr>\n",
       "    <tr>\n",
       "      <td>11</td>\n",
       "      <td>1196</td>\n",
       "      <td>Star Wars: Episode V - The Empire Strikes Back</td>\n",
       "      <td>1980</td>\n",
       "      <td>65822</td>\n",
       "    </tr>\n",
       "    <tr>\n",
       "      <td>12</td>\n",
       "      <td>2959</td>\n",
       "      <td>Fight Club</td>\n",
       "      <td>1999</td>\n",
       "      <td>65678</td>\n",
       "    </tr>\n",
       "    <tr>\n",
       "      <td>13</td>\n",
       "      <td>589</td>\n",
       "      <td>Terminator 2: Judgment Day</td>\n",
       "      <td>1991</td>\n",
       "      <td>64258</td>\n",
       "    </tr>\n",
       "    <tr>\n",
       "      <td>14</td>\n",
       "      <td>1198</td>\n",
       "      <td>Raiders of the Lost Ark (Indiana Jones and the...</td>\n",
       "      <td>1981</td>\n",
       "      <td>63505</td>\n",
       "    </tr>\n",
       "  </tbody>\n",
       "</table>\n",
       "</div>"
      ],
      "text/plain": [
       "    movieId                                              title release_date  \\\n",
       "0       318                          Shawshank Redemption, The         1994   \n",
       "1       356                                       Forrest Gump         1994   \n",
       "2       296                                       Pulp Fiction         1994   \n",
       "3       593                          Silence of the Lambs, The         1991   \n",
       "4      2571                                        Matrix, The         1999   \n",
       "5       260                 Star Wars: Episode IV - A New Hope         1977   \n",
       "6       480                                      Jurassic Park         1993   \n",
       "7       527                                   Schindler's List         1993   \n",
       "8       110                                         Braveheart         1995   \n",
       "9         1                                          Toy Story         1995   \n",
       "10     1210         Star Wars: Episode VI - Return of the Jedi         1983   \n",
       "11     1196     Star Wars: Episode V - The Empire Strikes Back         1980   \n",
       "12     2959                                         Fight Club         1999   \n",
       "13      589                         Terminator 2: Judgment Day         1991   \n",
       "14     1198  Raiders of the Lost Ark (Indiana Jones and the...         1981   \n",
       "\n",
       "    rate_num  \n",
       "0      97999  \n",
       "1      97040  \n",
       "2      92406  \n",
       "3      87899  \n",
       "4      84545  \n",
       "5      81815  \n",
       "6      76451  \n",
       "7      71516  \n",
       "8      68803  \n",
       "9      68469  \n",
       "10     66023  \n",
       "11     65822  \n",
       "12     65678  \n",
       "13     64258  \n",
       "14     63505  "
      ]
     },
     "execution_count": 30,
     "metadata": {},
     "output_type": "execute_result"
    }
   ],
   "source": [
    "top_rating_num = spark.sql(\n",
    "                '''Select r.movieId, m.title, m.release_date, sum(case when rating is not null then 1 else 0 end) as rate_num\n",
    "                From ratings r\n",
    "                Join movies m on r.movieId=m.movieId\n",
    "                Group by 1,2,3\n",
    "                Order by 4 desc\n",
    "                Limit 1000''')\n",
    "\n",
    "top_rating_num.createOrReplaceTempView('top_rate_num_movies')\n",
    "\n",
    "top_rating_num.limit(15).toPandas().head(15)"
   ]
  },
  {
   "cell_type": "code",
   "execution_count": 31,
   "metadata": {},
   "outputs": [],
   "source": [
    "top_rating_movies_by_year = spark.sql(\n",
    "                                '''Select release_date, count(*) as num_by_year\n",
    "                                    From top_rate_num_movies\n",
    "                                    Group by release_date\n",
    "                                    Order by 2 Desc\n",
    "                                    Limit 10''')"
   ]
  },
  {
   "cell_type": "code",
   "execution_count": 106,
   "metadata": {},
   "outputs": [
    {
     "data": {
      "text/plain": [
       "Text(0.5,1,'Top 10 years with the largest number of top rated movies')"
      ]
     },
     "execution_count": 106,
     "metadata": {},
     "output_type": "execute_result"
    },
    {
     "data": {
      "image/png": "[encoded data removed]",
      "text/plain": [
       "<Figure size 720x432 with 1 Axes>"
      ]
     },
     "metadata": {
      "needs_background": "light"
     },
     "output_type": "display_data"
    }
   ],
   "source": [
    "top_rating_movies_by_year.toPandas().plot(figsize = (10,6), kind = \"bar\", color = \"green\",\n",
    "                               x = \"release_date\", y = \"num_by_year\", legend = False)\n",
    "\n",
    "plt.xlabel(\"release year\", fontsize = 15)\n",
    "plt.ylabel(\"number of top rated movie\", fontsize = 15)\n",
    "plt.title(\"Top 10 years with the largest number of top rated movies\", fontsize = 20)"
   ]
  },
  {
   "cell_type": "code",
   "execution_count": 33,
   "metadata": {},
   "outputs": [],
   "source": [
    "top_rating_movies_by_decade = spark.sql(\n",
    "                '''Select (case when release_date<1970 then 'before 1970' when release_date between 1970 and 1979 then '1970s' when release_date between 1980 and 1989 then '1980s'\n",
    "                        when release_date between 1990 and 1999 then '1990s' when release_date between 2000 and 2009 then '2000s' else 'after 2010' end) as decade, count(*) as num_by_decade\n",
    "                From top_rate_num_movies\n",
    "                Group by 1\n",
    "                Order by 2 Desc''')"
   ]
  },
  {
   "cell_type": "code",
   "execution_count": 107,
   "metadata": {},
   "outputs": [
    {
     "data": {
      "text/plain": [
       "Text(0.5,1,'Decades with the most number of top rated movies')"
      ]
     },
     "execution_count": 107,
     "metadata": {},
     "output_type": "execute_result"
    },
    {
     "data": {
      "image/png": "[encoded data removed]",
      "text/plain": [
       "<Figure size 720x432 with 1 Axes>"
      ]
     },
     "metadata": {
      "needs_background": "light"
     },
     "output_type": "display_data"
    }
   ],
   "source": [
    "top_rating_movies_by_decade.toPandas().plot(figsize = (10,6), kind = \"bar\", color = \"green\",\n",
    "                               x = \"decade\", y = \"num_by_decade\", legend = False)\n",
    "\n",
    "plt.xlabel(\"release decade\", fontsize = 15)\n",
    "plt.ylabel(\"number of top rated movie\", fontsize = 15)\n",
    "plt.title(\"Decades with the most number of top rated movies\", fontsize = 20)"
   ]
  },
  {
   "cell_type": "markdown",
   "metadata": {},
   "source": [
    " ### Top 1000 movies with highest average rating (received over 1000 ratings)"
   ]
  },
  {
   "cell_type": "code",
   "execution_count": 35,
   "metadata": {},
   "outputs": [
    {
     "data": {
      "text/html": [
       "<div>\n",
       "<style scoped>\n",
       "    .dataframe tbody tr th:only-of-type {\n",
       "        vertical-align: middle;\n",
       "    }\n",
       "\n",
       "    .dataframe tbody tr th {\n",
       "        vertical-align: top;\n",
       "    }\n",
       "\n",
       "    .dataframe thead th {\n",
       "        text-align: right;\n",
       "    }\n",
       "</style>\n",
       "<table border=\"1\" class=\"dataframe\">\n",
       "  <thead>\n",
       "    <tr style=\"text-align: right;\">\n",
       "      <th></th>\n",
       "      <th>movieId</th>\n",
       "      <th>title</th>\n",
       "      <th>release_date</th>\n",
       "      <th>avg_rate</th>\n",
       "      <th>rate_num</th>\n",
       "    </tr>\n",
       "  </thead>\n",
       "  <tbody>\n",
       "    <tr>\n",
       "      <td>0</td>\n",
       "      <td>159817</td>\n",
       "      <td>Planet Earth</td>\n",
       "      <td>2006</td>\n",
       "      <td>4.46</td>\n",
       "      <td>1384</td>\n",
       "    </tr>\n",
       "    <tr>\n",
       "      <td>1</td>\n",
       "      <td>318</td>\n",
       "      <td>Shawshank Redemption, The</td>\n",
       "      <td>1994</td>\n",
       "      <td>4.42</td>\n",
       "      <td>97999</td>\n",
       "    </tr>\n",
       "    <tr>\n",
       "      <td>2</td>\n",
       "      <td>174053</td>\n",
       "      <td>Black Mirror: White Christmas</td>\n",
       "      <td>2014</td>\n",
       "      <td>4.35</td>\n",
       "      <td>1074</td>\n",
       "    </tr>\n",
       "    <tr>\n",
       "      <td>3</td>\n",
       "      <td>858</td>\n",
       "      <td>Godfather, The</td>\n",
       "      <td>1972</td>\n",
       "      <td>4.33</td>\n",
       "      <td>60904</td>\n",
       "    </tr>\n",
       "    <tr>\n",
       "      <td>4</td>\n",
       "      <td>50</td>\n",
       "      <td>Usual Suspects, The</td>\n",
       "      <td>1995</td>\n",
       "      <td>4.29</td>\n",
       "      <td>62180</td>\n",
       "    </tr>\n",
       "    <tr>\n",
       "      <td>5</td>\n",
       "      <td>1221</td>\n",
       "      <td>Godfather: Part II, The</td>\n",
       "      <td>1974</td>\n",
       "      <td>4.26</td>\n",
       "      <td>38875</td>\n",
       "    </tr>\n",
       "    <tr>\n",
       "      <td>6</td>\n",
       "      <td>527</td>\n",
       "      <td>Schindler's List</td>\n",
       "      <td>1993</td>\n",
       "      <td>4.26</td>\n",
       "      <td>71516</td>\n",
       "    </tr>\n",
       "    <tr>\n",
       "      <td>7</td>\n",
       "      <td>2019</td>\n",
       "      <td>Seven Samurai (Shichinin no samurai)</td>\n",
       "      <td>1954</td>\n",
       "      <td>4.25</td>\n",
       "      <td>14578</td>\n",
       "    </tr>\n",
       "    <tr>\n",
       "      <td>8</td>\n",
       "      <td>1203</td>\n",
       "      <td>12 Angry Men</td>\n",
       "      <td>1957</td>\n",
       "      <td>4.24</td>\n",
       "      <td>17931</td>\n",
       "    </tr>\n",
       "    <tr>\n",
       "      <td>9</td>\n",
       "      <td>904</td>\n",
       "      <td>Rear Window</td>\n",
       "      <td>1954</td>\n",
       "      <td>4.23</td>\n",
       "      <td>22264</td>\n",
       "    </tr>\n",
       "    <tr>\n",
       "      <td>10</td>\n",
       "      <td>2959</td>\n",
       "      <td>Fight Club</td>\n",
       "      <td>1999</td>\n",
       "      <td>4.23</td>\n",
       "      <td>65678</td>\n",
       "    </tr>\n",
       "    <tr>\n",
       "      <td>11</td>\n",
       "      <td>1193</td>\n",
       "      <td>One Flew Over the Cuckoo's Nest</td>\n",
       "      <td>1975</td>\n",
       "      <td>4.22</td>\n",
       "      <td>42181</td>\n",
       "    </tr>\n",
       "    <tr>\n",
       "      <td>12</td>\n",
       "      <td>5618</td>\n",
       "      <td>Spirited Away (Sen to Chihiro no kamikakushi)</td>\n",
       "      <td>2001</td>\n",
       "      <td>4.21</td>\n",
       "      <td>23227</td>\n",
       "    </tr>\n",
       "    <tr>\n",
       "      <td>13</td>\n",
       "      <td>912</td>\n",
       "      <td>Casablanca</td>\n",
       "      <td>1942</td>\n",
       "      <td>4.21</td>\n",
       "      <td>31095</td>\n",
       "    </tr>\n",
       "    <tr>\n",
       "      <td>14</td>\n",
       "      <td>750</td>\n",
       "      <td>Dr. Strangelove or: How I Learned to Stop Worr...</td>\n",
       "      <td>1964</td>\n",
       "      <td>4.21</td>\n",
       "      <td>29484</td>\n",
       "    </tr>\n",
       "  </tbody>\n",
       "</table>\n",
       "</div>"
      ],
      "text/plain": [
       "    movieId                                              title release_date  \\\n",
       "0    159817                                       Planet Earth         2006   \n",
       "1       318                          Shawshank Redemption, The         1994   \n",
       "2    174053                      Black Mirror: White Christmas         2014   \n",
       "3       858                                     Godfather, The         1972   \n",
       "4        50                                Usual Suspects, The         1995   \n",
       "5      1221                            Godfather: Part II, The         1974   \n",
       "6       527                                   Schindler's List         1993   \n",
       "7      2019               Seven Samurai (Shichinin no samurai)         1954   \n",
       "8      1203                                       12 Angry Men         1957   \n",
       "9       904                                        Rear Window         1954   \n",
       "10     2959                                         Fight Club         1999   \n",
       "11     1193                    One Flew Over the Cuckoo's Nest         1975   \n",
       "12     5618      Spirited Away (Sen to Chihiro no kamikakushi)         2001   \n",
       "13      912                                         Casablanca         1942   \n",
       "14      750  Dr. Strangelove or: How I Learned to Stop Worr...         1964   \n",
       "\n",
       "    avg_rate  rate_num  \n",
       "0       4.46      1384  \n",
       "1       4.42     97999  \n",
       "2       4.35      1074  \n",
       "3       4.33     60904  \n",
       "4       4.29     62180  \n",
       "5       4.26     38875  \n",
       "6       4.26     71516  \n",
       "7       4.25     14578  \n",
       "8       4.24     17931  \n",
       "9       4.23     22264  \n",
       "10      4.23     65678  \n",
       "11      4.22     42181  \n",
       "12      4.21     23227  \n",
       "13      4.21     31095  \n",
       "14      4.21     29484  "
      ]
     },
     "execution_count": 35,
     "metadata": {},
     "output_type": "execute_result"
    }
   ],
   "source": [
    "top_avg_rating_movies = spark.sql(\n",
    "                  '''Select r.movieId, m.title, m.release_date, round(avg(rating), 2) as avg_rate, sum(case when r.rating is not null then 1 else 0 end) as rate_num\n",
    "                  From ratings r\n",
    "                  Join movies m on r.movieId=m.movieId\n",
    "                  Group by 1,2,3\n",
    "                  Having sum(case when r.rating is not null then 1 else 0 end)>=1000\n",
    "                  Order by 4 desc\n",
    "                  Limit 1000''')\n",
    "\n",
    "top_avg_rating_movies.createOrReplaceTempView('top_avg_rate_movies')\n",
    "\n",
    "top_avg_rating_movies.limit(15).toPandas().head(15)"
   ]
  },
  {
   "cell_type": "code",
   "execution_count": 36,
   "metadata": {},
   "outputs": [],
   "source": [
    "top_avg_score_movie_by_decade = spark.sql(\n",
    "            '''Select (case when release_date<1970 then 'before 1970' when release_date between 1970 and 1979 then '1970s' when release_date between 1980 and 1989 then '1980s' when release_date between 1990 and 1999 then '1990s'\n",
    "            when release_date between 2000 and 2009 then '2000s' else 'after 2010' end) as decade, count(*) as num_by_decade, round(sum(avg_rate*rate_num)/sum(rate_num), 2) as avg_score_by_decade\n",
    "            From top_avg_rate_movies\n",
    "            Group by 1\n",
    "            Order by 2 Desc, 3 Desc''')"
   ]
  },
  {
   "cell_type": "code",
   "execution_count": 37,
   "metadata": {},
   "outputs": [
    {
     "data": {
      "text/plain": [
       "Text(0.5,1,'Decades with number of highest average score movies')"
      ]
     },
     "execution_count": 37,
     "metadata": {},
     "output_type": "execute_result"
    },
    {
     "data": {
      "image/png": "[encoded data removed]",
      "text/plain": [
       "<Figure size 720x432 with 1 Axes>"
      ]
     },
     "metadata": {
      "needs_background": "light"
     },
     "output_type": "display_data"
    }
   ],
   "source": [
    "top_avg_score_movie_by_decade.toPandas().plot(figsize = (10,6), kind = \"bar\", color = \"green\",\n",
    "                               x = \"decade\", y = \"num_by_decade\", legend = False)\n",
    "\n",
    "plt.xlabel(\"release decade\", fontsize = 15)\n",
    "plt.ylabel(\"number of movies with highest average score\", fontsize = 15)\n",
    "plt.title(\"Decades with number of highest average score movies\", fontsize = 20)"
   ]
  },
  {
   "cell_type": "markdown",
   "metadata": {},
   "source": [
    "### Conclusion 3\n",
    "\n",
    "Rating scores are mainly distributed between 3.0 and 5.0.   \n",
    "The top 3 most popular movies are 'Shawshank Redemption', 'Forrest Gump' and 'Pulp Fiction' which receive more than 90,000 rating.   \n",
    "1990s has 413 of top 1000 popular movies (received most rating in this dataset).   \n",
    "'Planet Earth', 'Shawshank Redemption' and 'Black Mirror: White Christmas' are the top 3 movies with the highest average rating score around 4.4. While 'Shawshank Redemption', 'The Godfather' and 'The Usual Suspects' are movies both received high number of rating and average rating score. These movies should be recommended to users in general."
   ]
  },
  {
   "cell_type": "markdown",
   "metadata": {},
   "source": [
    "## Step 2: Load data into Elasticsearch"
   ]
  },
  {
   "cell_type": "code",
   "execution_count": 38,
   "metadata": {},
   "outputs": [
    {
     "data": {
      "text/plain": [
       "{'name': 'sMs7zzC',\n",
       " 'cluster_name': 'elasticsearch',\n",
       " 'cluster_uuid': 'ZNmUzgnOQmWID6ZzZz-H7Q',\n",
       " 'version': {'number': '5.3.0',\n",
       "  'build_hash': '3adb13b',\n",
       "  'build_date': '2017-03-23T03:31:50.652Z',\n",
       "  'build_snapshot': False,\n",
       "  'lucene_version': '6.4.1'},\n",
       " 'tagline': 'You Know, for Search'}"
      ]
     },
     "execution_count": 38,
     "metadata": {},
     "output_type": "execute_result"
    }
   ],
   "source": [
    "from elasticsearch import Elasticsearch\n",
    "\n",
    "# test ES instance is running\n",
    "es = Elasticsearch()\n",
    "es.info(pretty=True)"
   ]
  },
  {
   "cell_type": "markdown",
   "metadata": {},
   "source": [
    "### Create an Elasticsearch index with mappings for users, movies and rating events"
   ]
  },
  {
   "cell_type": "code",
   "execution_count": 44,
   "metadata": {},
   "outputs": [
    {
     "data": {
      "text/plain": [
       "{'acknowledged': True}"
      ]
     },
     "execution_count": 44,
     "metadata": {},
     "output_type": "execute_result"
    }
   ],
   "source": [
    "# es.indices.delete(index=\"ratings\")\n",
    "# es.indices.delete(index=\"users\")\n",
    "# es.indices.delete(index=\"movies\")"
   ]
  },
  {
   "cell_type": "code",
   "execution_count": 45,
   "metadata": {},
   "outputs": [],
   "source": [
    "index_rating = {   \"settings\": {\n",
    "                },\n",
    "                \"mappings\": {\n",
    "                    \"doc\": {\n",
    "                      # this mapping definition sets up the fields for the rating events\n",
    "                      \"properties\": {\n",
    "                            \"timestamp\": {\"type\": \"date\"},\n",
    "                            \"userId\": {\"type\": \"integer\"},\n",
    "                            \"movieId\": {\"type\": \"integer\"},\n",
    "                            \"rating\": {\"type\": \"double\"}\n",
    "                        }  \n",
    "                    }\n",
    "                }\n",
    "            }\n",
    "\n",
    "index_user = {   \"settings\": {\n",
    "                    \"analysis\": {\n",
    "                            \"analyzer\": {\n",
    "                                # this configures the custom analyzer we need to parse vectors such that the scoring\n",
    "                                # plugin will work correctly\n",
    "                                \"payload_analyzer\": {\n",
    "                                    \"type\": \"custom\",\n",
    "                                    \"tokenizer\":\"whitespace\",\n",
    "                                    \"filter\":\"delimited_payload_filter\"}\n",
    "                                }\n",
    "                            }\n",
    "                    },\n",
    "                  \"mappings\": {\n",
    "                        \"doc\": {\n",
    "                        # this mapping definition sets up the metadata fields for the users\n",
    "                        \"properties\": {\n",
    "                            \"userId\": {\"type\": \"integer\"},\n",
    "                            \"@model\": {\n",
    "                                # this mapping definition sets up the fields for user factor vectors of our model\n",
    "                                \"properties\": {\n",
    "                                    \"factor\": {\n",
    "                                        \"type\": \"text\",\n",
    "                                        \"term_vector\": \"with_positions_offsets_payloads\",\n",
    "                                        \"analyzer\" : \"payload_analyzer\"},\n",
    "                                    \"version\": {\"type\": \"keyword\"},\n",
    "                                    \"timestamp\": {\"type\": \"date\"}\n",
    "                                    }\n",
    "                                }\n",
    "                            }\n",
    "                         }\n",
    "                      }\n",
    "             }\n",
    "\n",
    "\n",
    "\n",
    "index_movie = {   \"settings\": {\n",
    "                    \"analysis\": {\n",
    "                            \"analyzer\": {\n",
    "                                # this configures the custom analyzer we need to parse vectors such that the scoring\n",
    "                                # plugin will work correctly\n",
    "                                \"payload_analyzer\": {\n",
    "                                    \"type\": \"custom\",\n",
    "                                    \"tokenizer\":\"whitespace\",\n",
    "                                    \"filter\":\"delimited_payload_filter\"}\n",
    "                                }\n",
    "                            }\n",
    "                    },\n",
    "                  \"mappings\": {\n",
    "                        \"doc\": {\n",
    "                        # this mapping definition sets up the metadata fields for the users\n",
    "                        \"properties\": {\n",
    "                            \"movieId\": {\"type\": \"integer\"},\n",
    "                            \"tmdbId\": {\"type\": \"keyword\"},\n",
    "                            \"genres\": {\"type\": \"keyword\"},\n",
    "                            \"release_date\": {\n",
    "                                \"type\": \"date\",\n",
    "                                \"format\": \"year\"},\n",
    "                            \"@model\": {\n",
    "                                # this mapping definition sets up the fields for user factor vectors of our model\n",
    "                                \"properties\": {\n",
    "                                    \"factor\": {\n",
    "                                        \"type\": \"text\",\n",
    "                                        \"term_vector\": \"with_positions_offsets_payloads\",\n",
    "                                        \"analyzer\" : \"payload_analyzer\"},\n",
    "                                    \"version\": {\"type\": \"keyword\"},\n",
    "                                    \"timestamp\": {\"type\": \"date\"}\n",
    "                                    }\n",
    "                                }\n",
    "                            }\n",
    "                         }\n",
    "                      }\n",
    "             }"
   ]
  },
  {
   "cell_type": "code",
   "execution_count": 46,
   "metadata": {},
   "outputs": [
    {
     "data": {
      "text/plain": [
       "{'acknowledged': True, 'shards_acknowledged': True}"
      ]
     },
     "execution_count": 46,
     "metadata": {},
     "output_type": "execute_result"
    }
   ],
   "source": [
    "es.indices.create(index=\"ratings\", body=index_rating)\n",
    "es.indices.create(index=\"users\", body=index_user)\n",
    "es.indices.create(index=\"movies\", body=index_movie)"
   ]
  },
  {
   "cell_type": "markdown",
   "metadata": {},
   "source": [
    "### Load Ratings and Movies DataFrames into Elasticsearch"
   ]
  },
  {
   "cell_type": "markdown",
   "metadata": {},
   "source": [
    "### It may takes more than 20 minutes to write ratings data into ES"
   ]
  },
  {
   "cell_type": "code",
   "execution_count": 47,
   "metadata": {
    "scrolled": true
   },
   "outputs": [
    {
     "name": "stdout",
     "output_type": "stream",
     "text": [
      "Dataframe count: 27753444\n",
      "ES index count:  27753444\n"
     ]
    }
   ],
   "source": [
    "# write ratings data\n",
    "ratings.write.format(\"es\").save(\"ratings/doc\")\n",
    "# check write went ok\n",
    "print(\"Dataframe count: %d\" % ratings.count())\n",
    "print(\"ES index count:  %d\" % es.count(index=\"ratings\")['count'])"
   ]
  },
  {
   "cell_type": "code",
   "execution_count": 105,
   "metadata": {},
   "outputs": [
    {
     "data": {
      "text/plain": [
       "{'took': 154,\n",
       " 'timed_out': False,\n",
       " '_shards': {'total': 5, 'successful': 5, 'failed': 0},\n",
       " 'hits': {'total': 13839395,\n",
       "  'max_score': 1.0,\n",
       "  'hits': [{'_index': 'ratings',\n",
       "    '_type': 'doc',\n",
       "    '_id': 'AW_GKUGnTb0S9uypxgRL',\n",
       "    '_score': 1.0,\n",
       "    '_source': {'userId': 153268,\n",
       "     'movieId': 68157,\n",
       "     'rating': 4.5,\n",
       "     'timestamp': 1470609443000}},\n",
       "   {'_index': 'ratings',\n",
       "    '_type': 'doc',\n",
       "    '_id': 'AW_GKUGnTb0S9uypxgRO',\n",
       "    '_score': 1.0,\n",
       "    '_source': {'userId': 153268,\n",
       "     'movieId': 109374,\n",
       "     'rating': 4.0,\n",
       "     'timestamp': 1470609461000}},\n",
       "   {'_index': 'ratings',\n",
       "    '_type': 'doc',\n",
       "    '_id': 'AW_GKUGnTb0S9uypxgRR',\n",
       "    '_score': 1.0,\n",
       "    '_source': {'userId': 153269,\n",
       "     'movieId': 50,\n",
       "     'rating': 4.0,\n",
       "     'timestamp': 1168863881000}}]}}"
      ]
     },
     "execution_count": 105,
     "metadata": {},
     "output_type": "execute_result"
    }
   ],
   "source": [
    "# test things out by retrieving a few rating event documents from Elasticsearch\n",
    "es.search(index=\"ratings\", q=\"rating:>=4.0\", size=3)"
   ]
  },
  {
   "cell_type": "markdown",
   "metadata": {},
   "source": [
    "### Count the rating number in Jan 2016"
   ]
  },
  {
   "cell_type": "code",
   "execution_count": 49,
   "metadata": {},
   "outputs": [
    {
     "data": {
      "text/plain": [
       "{'count': 212083, '_shards': {'total': 5, 'successful': 5, 'failed': 0}}"
      ]
     },
     "execution_count": 49,
     "metadata": {},
     "output_type": "execute_result"
    }
   ],
   "source": [
    "es.count(index=\"ratings\", q=\"timestamp:[2016-01-01 TO 2016-02-01]\")"
   ]
  },
  {
   "cell_type": "markdown",
   "metadata": {},
   "source": [
    "### Write the movie metadata"
   ]
  },
  {
   "cell_type": "code",
   "execution_count": 50,
   "metadata": {},
   "outputs": [
    {
     "name": "stdout",
     "output_type": "stream",
     "text": [
      "Movie DF count: 58098\n",
      "ES index count: 58098\n"
     ]
    }
   ],
   "source": [
    "movie_data.write.format(\"es\").option(\"es.mapping.id\", \"movieId\").save(\"movies/doc\")\n",
    "# check load went ok\n",
    "print(\"Movie DF count: %d\" % movie_data.count())\n",
    "print(\"ES index count: %d\" % es.count(index=\"movies\")['count'])"
   ]
  },
  {
   "cell_type": "code",
   "execution_count": 102,
   "metadata": {},
   "outputs": [
    {
     "data": {
      "text/plain": [
       "{'took': 3,\n",
       " 'timed_out': False,\n",
       " '_shards': {'total': 5, 'successful': 5, 'failed': 0},\n",
       " 'hits': {'total': 62,\n",
       "  'max_score': 9.787669,\n",
       "  'hits': [{'_index': 'movies',\n",
       "    '_type': 'doc',\n",
       "    '_id': '1214',\n",
       "    '_score': 9.787669,\n",
       "    '_source': {'movieId': '1214',\n",
       "     'title': 'Alien',\n",
       "     'release_date': '1979',\n",
       "     'genres': 'Horror|Sci-Fi',\n",
       "     'tmdbId': '348',\n",
       "     '@model': {'factor': '0|0.13124197721481323 1|0.06942271441221237 2|0.27292686700820923 3|-0.628676176071167 4|-0.5537511110305786 5|0.21920037269592285 6|0.3231161832809448 7|-0.019539393484592438 8|0.0913422629237175 9|-0.2540934681892395 10|0.9992530345916748 11|-0.28081214427948 12|-0.7617300152778625 13|-0.05765897408127785 14|0.16453957557678223 15|-0.3262028396129608 16|0.10504470765590668 17|0.16015054285526276 18|-0.32256537675857544 19|-0.4159103035926819',\n",
       "      'version': 'ALS_6db3ce0b7ec2',\n",
       "      'timestamp': 1579581435},\n",
       "     'id': 1214}},\n",
       "   {'_index': 'movies',\n",
       "    '_type': 'doc',\n",
       "    '_id': '1320',\n",
       "    '_score': 8.910109,\n",
       "    '_source': {'movieId': '1320',\n",
       "     'title': 'Alien³ (a.k.a. Alien 3)',\n",
       "     'release_date': '1992',\n",
       "     'genres': 'Action|Horror|Sci-Fi|Thriller',\n",
       "     'tmdbId': '8077',\n",
       "     '@model': {'factor': '0|-0.08357515931129456 1|0.4308343231678009 2|0.40646421909332275 3|-0.49918800592422485 4|-0.31893184781074524 5|-0.5568183064460754 6|0.33536669611930847 7|-0.2976858615875244 8|0.1998683661222458 9|0.2498413324356079 10|0.7751224637031555 11|-0.24744059145450592 12|-0.6010767221450806 13|-0.12223812937736511 14|0.3537745773792267 15|-0.3095884621143341 16|-0.10635733604431152 17|0.24987944960594177 18|0.11470001935958862 19|-0.1495450884103775',\n",
       "      'version': 'ALS_6db3ce0b7ec2',\n",
       "      'timestamp': 1579581435},\n",
       "     'id': 1320}},\n",
       "   {'_index': 'movies',\n",
       "    '_type': 'doc',\n",
       "    '_id': '107610',\n",
       "    '_score': 7.7162457,\n",
       "    '_source': {'movieId': '107610',\n",
       "     'title': 'Alien Cargo',\n",
       "     'release_date': '1999',\n",
       "     'genres': 'Sci-Fi',\n",
       "     'tmdbId': '52477',\n",
       "     '@model': {'factor': '0|0.3199406862258911 1|0.44965848326683044 2|0.3344646692276001 3|-0.3103860914707184 4|-0.0921318531036377 5|-0.11006275564432144 6|0.24031320214271545 7|-0.1422087401151657 8|-0.4128844439983368 9|-0.06955897063016891 10|0.3831403851509094 11|-0.12234988063573837 12|-0.19217632710933685 13|-0.3025940954685211 14|-0.23792514204978943 15|-0.425557404756546 16|0.4446339011192322 17|0.008669289760291576 18|-0.11856546252965927 19|-0.28248006105422974',\n",
       "      'version': 'ALS_6db3ce0b7ec2',\n",
       "      'timestamp': 1579581435},\n",
       "     'id': 107610}}]}}"
      ]
     },
     "execution_count": 102,
     "metadata": {},
     "output_type": "execute_result"
    }
   ],
   "source": [
    "# test things out by searching for movies containing \"alien\" in the title\n",
    "es.search(index=\"movies\", q=\"title: alien\", size=3)"
   ]
  },
  {
   "cell_type": "markdown",
   "metadata": {},
   "source": [
    "## Step 3: Train a recommmender model on the ratings data\n",
    "\n",
    "Our data has stored in Elasticsearch and we will use the ratings data to train an ALS recommendation model."
   ]
  },
  {
   "cell_type": "code",
   "execution_count": 54,
   "metadata": {},
   "outputs": [],
   "source": [
    "from pyspark.ml.recommendation import ALS, ALSModel\n",
    "from pyspark.ml.evaluation import RegressionEvaluator\n",
    "from pyspark.ml.tuning import ParamGridBuilder, CrossValidator\n",
    "from pyspark.sql import Row\n",
    "from pyspark.sql.functions import arrays_zip, col, explode"
   ]
  },
  {
   "cell_type": "markdown",
   "metadata": {},
   "source": [
    "### Read rating data from ES"
   ]
  },
  {
   "cell_type": "code",
   "execution_count": 53,
   "metadata": {
    "scrolled": false
   },
   "outputs": [
    {
     "name": "stdout",
     "output_type": "stream",
     "text": [
      "+-------+------+-------------------+------+\n",
      "|movieId|rating|          timestamp|userId|\n",
      "+-------+------+-------------------+------+\n",
      "|    454|   3.0|2000-05-20 18:58:47|218794|\n",
      "|   1183|   3.0|2000-05-20 18:56:30|218794|\n",
      "|   2336|   4.0|2000-05-20 18:55:41|218794|\n",
      "|    377|   5.0|2002-06-24 12:12:47|218797|\n",
      "|    924|   4.0|2004-08-09 09:46:46|218798|\n",
      "+-------+------+-------------------+------+\n",
      "only showing top 5 rows\n",
      "\n"
     ]
    }
   ],
   "source": [
    "ratings_from_es = spark.read.format(\"es\").load(\"ratings/doc\")\n",
    "ratings_from_es.show(5)"
   ]
  },
  {
   "cell_type": "markdown",
   "metadata": {},
   "source": [
    "### Split data into train, validation and test"
   ]
  },
  {
   "cell_type": "code",
   "execution_count": 55,
   "metadata": {},
   "outputs": [
    {
     "name": "stdout",
     "output_type": "stream",
     "text": [
      "train size: 16653771\n",
      "test size: 5549494\n"
     ]
    }
   ],
   "source": [
    "training, validation, testing = ratings.randomSplit([0.6, 0.2, 0.2],seed = 42)\n",
    "print('train size:', training.count())\n",
    "print('test size:', testing.count())"
   ]
  },
  {
   "cell_type": "markdown",
   "metadata": {},
   "source": [
    "### Use cross validation to tune the model, also monitor the training time"
   ]
  },
  {
   "cell_type": "code",
   "execution_count": 58,
   "metadata": {},
   "outputs": [],
   "source": [
    "def train_ALS(train_data, validation_data, evaluator, num_iters, reg_param, ranks):\n",
    "    min_error = float('inf')\n",
    "    best_rank = -1\n",
    "    best_regularization = 0\n",
    "    best_model = None\n",
    "    for rank in ranks:\n",
    "        for reg in reg_param:\n",
    "            # write your approach to train ALS model\n",
    "            # make prediction\n",
    "            # get the rating result\n",
    "            # get the RMSE\n",
    "            als = ALS(rank=rank, maxIter=num_iters, regParam=reg, userCol=\"userId\", itemCol=\"movieId\", ratingCol=\"rating\",\n",
    "                      coldStartStrategy=\"drop\")\n",
    "            model = als.fit(train_data)\n",
    "            predictions = model.transform(validation_data)\n",
    "            \n",
    "            error = evaluator.evaluate(predictions)\n",
    "            print ('{} latent factors and regularization = {}: validation RMSE is {}'.format(rank, reg, error))\n",
    "            if error < min_error:\n",
    "                min_error = error\n",
    "                best_rank = rank\n",
    "                best_regularization = reg\n",
    "                best_model = model\n",
    "    print ('\\nThe best model has {} latent factors and regularization = {}'.format(best_rank, best_regularization))\n",
    "    return best_model, best_rank, best_regularization"
   ]
  },
  {
   "cell_type": "code",
   "execution_count": 60,
   "metadata": {},
   "outputs": [
    {
     "name": "stdout",
     "output_type": "stream",
     "text": [
      "10 latent factors and regularization = 0.01: validation RMSE is 0.8575257585033933\n",
      "10 latent factors and regularization = 0.05: validation RMSE is 0.8204066606935297\n",
      "10 latent factors and regularization = 0.1: validation RMSE is 0.8210148821376432\n",
      "15 latent factors and regularization = 0.01: validation RMSE is 0.8683344248572057\n",
      "15 latent factors and regularization = 0.05: validation RMSE is 0.8166352901444612\n",
      "15 latent factors and regularization = 0.1: validation RMSE is 0.8186193556291858\n",
      "20 latent factors and regularization = 0.01: validation RMSE is 0.8814467954090988\n",
      "20 latent factors and regularization = 0.05: validation RMSE is 0.8163010332600593\n",
      "20 latent factors and regularization = 0.1: validation RMSE is 0.8189589149063178\n",
      "\n",
      "The best model has 20 latent factors and regularization = 0.05\n",
      "Total Runtime: 768.15 seconds\n"
     ]
    }
   ],
   "source": [
    "num_iterations = 10\n",
    "ranks = [10, 15, 20]\n",
    "reg_params = [0.01, 0.05, 0.1]\n",
    "rmse_evaluator = RegressionEvaluator(metricName=\"rmse\", labelCol=\"rating\",\n",
    "                                predictionCol=\"prediction\")\n",
    "\n",
    "import time\n",
    "start_time = time.time()\n",
    "final_model, final_rank, final_reg = train_ALS(training, validation, rmse_evaluator, num_iterations, reg_params, ranks)\n",
    "\n",
    "print ('Total Runtime: {:.2f} seconds'.format(time.time() - start_time))"
   ]
  },
  {
   "cell_type": "markdown",
   "metadata": {},
   "source": [
    "### Save our trained ALS model"
   ]
  },
  {
   "cell_type": "code",
   "execution_count": 61,
   "metadata": {},
   "outputs": [],
   "source": [
    "model_path = 'bestModel'\n",
    "final_model.save(model_path)"
   ]
  },
  {
   "cell_type": "markdown",
   "metadata": {},
   "source": [
    "### Plot learning rate"
   ]
  },
  {
   "cell_type": "code",
   "execution_count": 67,
   "metadata": {},
   "outputs": [],
   "source": [
    "def learning_curve(iter_array, train, validation, rank, reg):\n",
    "    train_errors, val_errors = [], []\n",
    "    for iter in iter_array:\n",
    "        als = ALS(rank=rank, maxIter=iter, regParam=reg, userCol=\"userId\", itemCol=\"movieId\", ratingCol=\"rating\",\n",
    "                          coldStartStrategy=\"drop\")\n",
    "        als_model = als.fit(train)\n",
    "        train_predict = als_model.transform(train)\n",
    "        val_predict = als_model.transform(validation)\n",
    "        train_errors.append(rmse_evaluator.evaluate(train_predict))\n",
    "        val_errors.append(rmse_evaluator.evaluate(val_predict))\n",
    "\n",
    "    return train_errors, val_errors\n",
    "\n",
    "def plot_lr_curve(iter_array, train_errors, val_errors):\n",
    "    # create dataframe\n",
    "    lst = [iter_array, train_errors, val_errors]\n",
    "    R = Row('iter_num', 'train_mse', 'validation_mse')\n",
    "    lr_df = sc.parallelize(R(*r) for r in zip(*lst)).toDF()\n",
    "\n",
    "    # plot learning curve\n",
    "    fig, axes = plt.subplots(1,1)\n",
    "    lr_df_p = lr_df.toPandas()\n",
    "    plt.plot('iter_num','train_mse',data=lr_df_p)\n",
    "    plt.plot('iter_num','validation_mse',data=lr_df_p)\n",
    "    plt.xlabel(\"num_iteration\")\n",
    "    plt.ylabel(\"RMSE\")\n",
    "    plt.title(\"learning curve\")\n",
    "    plt.legend()"
   ]
  },
  {
   "cell_type": "code",
   "execution_count": 68,
   "metadata": {},
   "outputs": [
    {
     "data": {
      "image/png": "[encoded data removed]",
      "text/plain": [
       "<Figure size 432x288 with 1 Axes>"
      ]
     },
     "metadata": {
      "needs_background": "light"
     },
     "output_type": "display_data"
    }
   ],
   "source": [
    "iter_array = [1, 2, 5, 10]\n",
    "train_errors, val_errors = learning_curve(iter_array, training, validation, final_rank, final_reg)\n",
    "\n",
    "plot_lr_curve(iter_array, train_errors, val_errors)"
   ]
  },
  {
   "cell_type": "markdown",
   "metadata": {},
   "source": [
    "### Model testing\n",
    "And finally, make a prediction and check the testing error."
   ]
  },
  {
   "cell_type": "code",
   "execution_count": 69,
   "metadata": {},
   "outputs": [
    {
     "name": "stdout",
     "output_type": "stream",
     "text": [
      "root of mean-squared error for testing data is: 0.8168670224439818\n"
     ]
    }
   ],
   "source": [
    "rmse = rmse_evaluator.evaluate(final_model.transform(testing))\n",
    "print('root of mean-squared error for testing data is: {}'.format(rmse))"
   ]
  },
  {
   "cell_type": "markdown",
   "metadata": {},
   "source": [
    "### Apply the model to do recommendation"
   ]
  },
  {
   "cell_type": "code",
   "execution_count": 70,
   "metadata": {},
   "outputs": [],
   "source": [
    "def get_recommend(recommend_to_user_df):\n",
    "    recommend = (recommend_to_user_df\n",
    "        .withColumn(\"tmp\", arrays_zip(\"recommendations\"))\n",
    "        .withColumn(\"tmp\", explode(\"tmp\"))\n",
    "        .select(\"userId\", col(\"tmp.recommendations\")['movieId'].alias('movieId'), col(\"tmp.recommendations\")['rating'].alias('rating')))\n",
    "    return recommend.join(movies, recommend.movieId==movies.movieId).select(recommend.userId, \"title\", \"genres\", \"rating\")"
   ]
  },
  {
   "cell_type": "code",
   "execution_count": 74,
   "metadata": {},
   "outputs": [
    {
     "name": "stdout",
     "output_type": "stream",
     "text": [
      "recommendation to user 1:\n"
     ]
    },
    {
     "data": {
      "text/html": [
       "<div>\n",
       "<style scoped>\n",
       "    .dataframe tbody tr th:only-of-type {\n",
       "        vertical-align: middle;\n",
       "    }\n",
       "\n",
       "    .dataframe tbody tr th {\n",
       "        vertical-align: top;\n",
       "    }\n",
       "\n",
       "    .dataframe thead th {\n",
       "        text-align: right;\n",
       "    }\n",
       "</style>\n",
       "<table border=\"1\" class=\"dataframe\">\n",
       "  <thead>\n",
       "    <tr style=\"text-align: right;\">\n",
       "      <th></th>\n",
       "      <th>userId</th>\n",
       "      <th>title</th>\n",
       "      <th>genres</th>\n",
       "      <th>rating</th>\n",
       "    </tr>\n",
       "  </thead>\n",
       "  <tbody>\n",
       "    <tr>\n",
       "      <td>0</td>\n",
       "      <td>1</td>\n",
       "      <td>UFO - Distruggete base Luna!</td>\n",
       "      <td>Action|Sci-Fi|Thriller</td>\n",
       "      <td>6.833246</td>\n",
       "    </tr>\n",
       "    <tr>\n",
       "      <td>1</td>\n",
       "      <td>1</td>\n",
       "      <td>District, The (Nyócker!)</td>\n",
       "      <td>Animation|Comedy</td>\n",
       "      <td>5.701684</td>\n",
       "    </tr>\n",
       "    <tr>\n",
       "      <td>2</td>\n",
       "      <td>1</td>\n",
       "      <td>Cuisine et dépendances</td>\n",
       "      <td>Comedy|Drama</td>\n",
       "      <td>5.631442</td>\n",
       "    </tr>\n",
       "    <tr>\n",
       "      <td>3</td>\n",
       "      <td>1</td>\n",
       "      <td>A Fat Wreck</td>\n",
       "      <td>Documentary</td>\n",
       "      <td>5.610677</td>\n",
       "    </tr>\n",
       "    <tr>\n",
       "      <td>4</td>\n",
       "      <td>1</td>\n",
       "      <td>The Postman's White Nights</td>\n",
       "      <td>(no genres listed)</td>\n",
       "      <td>5.440829</td>\n",
       "    </tr>\n",
       "    <tr>\n",
       "      <td>5</td>\n",
       "      <td>1</td>\n",
       "      <td>The Pirates of Penzance</td>\n",
       "      <td>Adventure|Comedy</td>\n",
       "      <td>5.422235</td>\n",
       "    </tr>\n",
       "    <tr>\n",
       "      <td>6</td>\n",
       "      <td>1</td>\n",
       "      <td>Love Is Blind</td>\n",
       "      <td>Drama|Romance</td>\n",
       "      <td>5.406916</td>\n",
       "    </tr>\n",
       "    <tr>\n",
       "      <td>7</td>\n",
       "      <td>1</td>\n",
       "      <td>Ween Live in Chicago</td>\n",
       "      <td>Documentary</td>\n",
       "      <td>5.382915</td>\n",
       "    </tr>\n",
       "    <tr>\n",
       "      <td>8</td>\n",
       "      <td>1</td>\n",
       "      <td>The Mitten</td>\n",
       "      <td>Animation</td>\n",
       "      <td>5.382414</td>\n",
       "    </tr>\n",
       "    <tr>\n",
       "      <td>9</td>\n",
       "      <td>1</td>\n",
       "      <td>Mike Birbiglia: What I Should Have Said Was No...</td>\n",
       "      <td>Comedy</td>\n",
       "      <td>5.363551</td>\n",
       "    </tr>\n",
       "  </tbody>\n",
       "</table>\n",
       "</div>"
      ],
      "text/plain": [
       "   userId                                              title  \\\n",
       "0       1                       UFO - Distruggete base Luna!   \n",
       "1       1                           District, The (Nyócker!)   \n",
       "2       1                             Cuisine et dépendances   \n",
       "3       1                                        A Fat Wreck   \n",
       "4       1                         The Postman's White Nights   \n",
       "5       1                            The Pirates of Penzance   \n",
       "6       1                                      Love Is Blind   \n",
       "7       1                               Ween Live in Chicago   \n",
       "8       1                                         The Mitten   \n",
       "9       1  Mike Birbiglia: What I Should Have Said Was No...   \n",
       "\n",
       "                   genres    rating  \n",
       "0  Action|Sci-Fi|Thriller  6.833246  \n",
       "1        Animation|Comedy  5.701684  \n",
       "2            Comedy|Drama  5.631442  \n",
       "3             Documentary  5.610677  \n",
       "4      (no genres listed)  5.440829  \n",
       "5        Adventure|Comedy  5.422235  \n",
       "6           Drama|Romance  5.406916  \n",
       "7             Documentary  5.382915  \n",
       "8               Animation  5.382414  \n",
       "9                  Comedy  5.363551  "
      ]
     },
     "execution_count": 74,
     "metadata": {},
     "output_type": "execute_result"
    }
   ],
   "source": [
    "user_subset = ratings.where(ratings.userId == 1)\n",
    "user_subset_recs = get_recommend(final_model.recommendForUserSubset(user_subset, 10))\n",
    "\n",
    "print(\"recommendation to user 1:\")\n",
    "user_subset_recs.toPandas().head(10)"
   ]
  },
  {
   "cell_type": "markdown",
   "metadata": {},
   "source": [
    "## Step 4: Export ALS user and item factor vectors to Elasticsearch\n",
    "\n",
    "In order to store the model in the correct format for the index mappings set up earlier, we need to write some utility functions which allow us to convert the raw vectors to the correct _delimited string format_. This ensures Elasticsearch will parse the vector field in the model correctly using the delimited token filter custom analyzer configured earlier."
   ]
  },
  {
   "cell_type": "markdown",
   "metadata": {},
   "source": [
    "### Utility functions for converting factor vectors"
   ]
  },
  {
   "cell_type": "code",
   "execution_count": 75,
   "metadata": {
    "scrolled": true
   },
   "outputs": [],
   "source": [
    "from pyspark.sql.types import *\n",
    "from pyspark.sql.functions import udf, lit, current_timestamp, unix_timestamp\n",
    "\n",
    "def convert_vector(x):\n",
    "    '''Convert a list or numpy array to delimited token filter format'''\n",
    "    return \" \".join([\"%s|%s\" % (i, v) for i, v in enumerate(x)])\n",
    "\n",
    "def reverse_convert(s):\n",
    "    '''Convert a delimited token filter format string back to list format'''\n",
    "    return  [float(f.split(\"|\")[1]) for f in s.split(\" \")]\n",
    "\n",
    "def vector_to_struct(x, version, ts):\n",
    "    '''Convert a vector to a SparkSQL Struct with string-format vector and version fields'''\n",
    "    return (convert_vector(x), version, ts)\n",
    "\n",
    "vector_struct = udf(vector_to_struct, \\\n",
    "                    StructType([StructField(\"factor\", StringType(), True), \\\n",
    "                                StructField(\"version\", StringType(), True),\\\n",
    "                                StructField(\"timestamp\", LongType(), True)]))"
   ]
  },
  {
   "cell_type": "code",
   "execution_count": 77,
   "metadata": {
    "scrolled": false
   },
   "outputs": [
    {
     "name": "stdout",
     "output_type": "stream",
     "text": [
      "[0.6450888514518738, 0.9105985164642334, 0.6369080543518066, -0.3509414792060852, -0.9060909748077393, 0.47838813066482544, 0.34185415506362915, 0.42779821157455444, -0.4276236891746521, -0.08414211869239807, 1.1605205535888672, -1.0112049579620361, -0.47937506437301636, -0.7154567837715149, 0.2307845652103424, -1.1488538980484009, 0.8359262347221375, 0.1366431564092636, -1.1939617395401, -0.5503947138786316]\n",
      "\n",
      "0|0.6450888514518738 1|0.9105985164642334 2|0.6369080543518066 3|-0.3509414792060852 4|-0.9060909748077393 5|0.47838813066482544 6|0.34185415506362915 7|0.42779821157455444 8|-0.4276236891746521 9|-0.08414211869239807 10|1.1605205535888672 11|-1.0112049579620361 12|-0.47937506437301636 13|-0.7154567837715149 14|0.2307845652103424 15|-1.1488538980484009 16|0.8359262347221375 17|0.1366431564092636 18|-1.1939617395401 19|-0.5503947138786316\n"
     ]
    }
   ],
   "source": [
    "# test out the vector conversion function\n",
    "test_vec = final_model.userFactors.select(\"features\").first().features\n",
    "print(test_vec)\n",
    "print()\n",
    "print(convert_vector(test_vec))"
   ]
  },
  {
   "cell_type": "markdown",
   "metadata": {},
   "source": [
    "### Convert factor vectors to [factor, version, timestamp] form and write to Elasticsearch"
   ]
  },
  {
   "cell_type": "code",
   "execution_count": 78,
   "metadata": {
    "scrolled": false
   },
   "outputs": [
    {
     "name": "stdout",
     "output_type": "stream",
     "text": [
      "+---+--------------------+----------------+----------+\n",
      "| id|              factor|         version| timestamp|\n",
      "+---+--------------------+----------------+----------+\n",
      "| 10|0|0.3715067505836...|ALS_6db3ce0b7ec2|1579581420|\n",
      "| 20|0|0.3286214768886...|ALS_6db3ce0b7ec2|1579581420|\n",
      "| 30|0|0.1613766998052...|ALS_6db3ce0b7ec2|1579581420|\n",
      "| 40|0|0.3396113812923...|ALS_6db3ce0b7ec2|1579581420|\n",
      "| 50|0|0.3995991051197...|ALS_6db3ce0b7ec2|1579581420|\n",
      "+---+--------------------+----------------+----------+\n",
      "only showing top 5 rows\n",
      "\n",
      "+---+--------------------+----------------+----------+\n",
      "| id|              factor|         version| timestamp|\n",
      "+---+--------------------+----------------+----------+\n",
      "| 10|0|0.6450888514518...|ALS_6db3ce0b7ec2|1579581420|\n",
      "| 20|0|0.8596282601356...|ALS_6db3ce0b7ec2|1579581420|\n",
      "| 30|0|0.5042299032211...|ALS_6db3ce0b7ec2|1579581420|\n",
      "| 40|0|1.0263648033142...|ALS_6db3ce0b7ec2|1579581420|\n",
      "| 50|0|1.0743591785430...|ALS_6db3ce0b7ec2|1579581420|\n",
      "+---+--------------------+----------------+----------+\n",
      "only showing top 5 rows\n",
      "\n"
     ]
    }
   ],
   "source": [
    "ver = final_model.uid\n",
    "ts = unix_timestamp(current_timestamp())\n",
    "movie_vectors = final_model.itemFactors.select(\"id\", vector_struct(\"features\", lit(ver), ts).alias(\"@model\"))\n",
    "movie_vectors.select(\"id\", \"@model.factor\", \"@model.version\", \"@model.timestamp\").show(5)\n",
    "user_vectors = final_model.userFactors.select(\"id\", vector_struct(\"features\", lit(ver), ts).alias(\"@model\"))\n",
    "user_vectors.select(\"id\", \"@model.factor\", \"@model.version\", \"@model.timestamp\").show(5)"
   ]
  },
  {
   "cell_type": "code",
   "execution_count": 79,
   "metadata": {
    "scrolled": false
   },
   "outputs": [],
   "source": [
    "# write data to ES, use:\n",
    "# - \"id\" as the column to map to ES movie id\n",
    "# - \"update\" write mode for ES, since you want to update new fields only\n",
    "# - \"append\" write mode for Spark\n",
    "movie_vectors.write.format(\"es\") \\\n",
    "    .option(\"es.mapping.id\", \"id\") \\\n",
    "    .option(\"es.write.operation\", \"update\") \\\n",
    "    .save(\"movies/doc\", mode=\"append\")"
   ]
  },
  {
   "cell_type": "code",
   "execution_count": 80,
   "metadata": {
    "scrolled": false
   },
   "outputs": [],
   "source": [
    "user_vectors.write.format(\"es\") \\\n",
    "    .option(\"es.mapping.id\", \"id\") \\\n",
    "    .option(\"es.write.operation\", \"index\") \\\n",
    "    .save(\"users/doc\", mode=\"append\")"
   ]
  },
  {
   "cell_type": "markdown",
   "metadata": {},
   "source": [
    "### Check the data  was written correctly\n",
    "\n",
    "You can search for a movie to see if the model factor vector was written correctly. You should see a `'@model': {'factor': '0|...` field in the returned movie document."
   ]
  },
  {
   "cell_type": "code",
   "execution_count": 81,
   "metadata": {
    "scrolled": false
   },
   "outputs": [
    {
     "data": {
      "text/plain": [
       "{'_index': 'movies',\n",
       " '_type': 'doc',\n",
       " '_id': '2628',\n",
       " '_score': 21.247154,\n",
       " '_source': {'movieId': '2628',\n",
       "  'title': 'Star Wars: Episode I - The Phantom Menace',\n",
       "  'release_date': '1999',\n",
       "  'genres': 'Action|Adventure|Sci-Fi',\n",
       "  'tmdbId': '1893',\n",
       "  '@model': {'factor': '0|-0.08328827470541 1|0.9240009188652039 2|0.3354133367538452 3|0.23696590960025787 4|-0.7063149213790894 5|-0.7392630577087402 6|0.3346553146839142 7|-0.34412291646003723 8|-0.4775799512863159 9|-0.32522183656692505 10|0.535256564617157 11|0.18055066466331482 12|0.12725631892681122 13|0.12734411656856537 14|0.22731855511665344 15|-0.3161265254020691 16|0.5739721059799194 17|0.11464138329029083 18|-0.4069567322731018 19|0.06041019409894943',\n",
       "   'version': 'ALS_6db3ce0b7ec2',\n",
       "   'timestamp': 1579581435},\n",
       "  'id': 2628}}"
      ]
     },
     "execution_count": 81,
     "metadata": {},
     "output_type": "execute_result"
    }
   ],
   "source": [
    "# search for a particular sci-fi movie\n",
    "es.search(index=\"movies\", q=\"star wars phantom menace\", size=1)['hits']['hits'][0]"
   ]
  },
  {
   "cell_type": "markdown",
   "metadata": {},
   "source": [
    "## Step 5: Recommend using Elasticsearch!\n",
    "\n",
    "Now we have loaded your recommendation model into Elasticsearch, we can generate some recommendations.\n",
    "\n",
    "* Fetching movie posters from TMdb API\n",
    "* Constructing the Elasticsearch [function score query](https://www.elastic.co/guide/en/elasticsearch/reference/5.3/query-dsl-function-score-query.html) to generate recommendations from trained ALS factor model\n",
    "* Find the movies most similar to target movie to do recommendation.\n",
    "* Given a user, use this query to find the movies with the highest predicted rating, to recommend to the user\n",
    "* Display the results as an HTML table in Notebook"
   ]
  },
  {
   "cell_type": "markdown",
   "metadata": {},
   "source": [
    "### Test if tmbd works"
   ]
  },
  {
   "cell_type": "code",
   "execution_count": 100,
   "metadata": {},
   "outputs": [
    {
     "name": "stdout",
     "output_type": "stream",
     "text": [
      "Successfully imported tmdbsimple!\n"
     ]
    },
    {
     "data": {
      "image/jpeg": "[encoded data removed]",
      "text/plain": [
       "<IPython.core.display.Image object>"
      ]
     },
     "metadata": {
      "image/jpeg": {
       "width": 200
      }
     },
     "output_type": "display_data"
    }
   ],
   "source": [
    "try:\n",
    "    import tmdbsimple as tmdb\n",
    "    # replace this variable with your actual TMdb API key\n",
    "    tmdb.API_KEY = 'a3c65767f871b69d20752b89c2d97ae0'\n",
    "    print(\"Successfully imported tmdbsimple!\")\n",
    "    # base URL for TMDB poster images\n",
    "    IMAGE_URL = 'https://image.tmdb.org/t/p/w500'\n",
    "    movie_id = movie_data.first().tmdbId\n",
    "    movie_info = tmdb.Movies(movie_id).info()\n",
    "    movie_poster_url = IMAGE_URL + movie_info['poster_path']\n",
    "    display(Image(movie_poster_url, width=200))\n",
    "except Exception:\n",
    "    print(\"Cannot import tmdbsimple, no movie posters will be displayed!\")"
   ]
  },
  {
   "cell_type": "code",
   "execution_count": 87,
   "metadata": {
    "scrolled": false
   },
   "outputs": [],
   "source": [
    "from IPython.display import Image, HTML, display\n",
    "\n",
    "def get_poster_url(id):\n",
    "    \"\"\"Fetch movie poster image URL from TMDb API given a tmdbId\"\"\"\n",
    "    IMAGE_URL = 'https://image.tmdb.org/t/p/w500'\n",
    "    try:\n",
    "        import tmdbsimple as tmdb\n",
    "        from tmdbsimple import APIKeyError\n",
    "        try:\n",
    "            movie = tmdb.Movies(id).info()\n",
    "            poster_url = IMAGE_URL + movie['poster_path'] if 'poster_path' in movie and movie['poster_path'] is not None else \"\"\n",
    "            return poster_url\n",
    "        except APIKeyError as ae:\n",
    "            return \"KEY_ERR\"\n",
    "    except Exception as me:\n",
    "        return \"NA\"\n",
    "    \n",
    "    \n",
    "def fn_query(query_vec, q=\"*\", cosine=False):\n",
    "    \"\"\"\n",
    "    Construct an Elasticsearch function score query.\n",
    "    \n",
    "    The query takes as parameters:\n",
    "        - the field in the candidate document that contains the factor vector\n",
    "        - the query vector\n",
    "        - a flag indicating whether to use dot product or cosine similarity (normalized dot product) for scores\n",
    "        \n",
    "    The query vector passed in will be the user factor vector (if generating recommended movies for a user)\n",
    "    or movie factor vector (if generating similar movies for a given movie)\n",
    "    \"\"\"\n",
    "    return {\n",
    "    \"query\": {\n",
    "        \"function_score\": {\n",
    "            \"query\" : { \n",
    "                \"query_string\": {\n",
    "                    \"query\": q\n",
    "                }\n",
    "            },\n",
    "            \"script_score\": {\n",
    "                \"script\": {\n",
    "                        \"inline\": \"payload_vector_score\",\n",
    "                        \"lang\": \"native\",\n",
    "                        \"params\": {\n",
    "                            \"field\": \"@model.factor\",\n",
    "                            \"vector\": query_vec,\n",
    "                            \"cosine\" : cosine\n",
    "                        }\n",
    "                    }\n",
    "            },\n",
    "            \"boost_mode\": \"replace\"\n",
    "        }\n",
    "    }\n",
    "}\n",
    "\n",
    "\n",
    "def get_similar(the_id, q=\"*\", num=10, index=\"movies\"):\n",
    "    \"\"\"\n",
    "    Given a movie id, execute the recommendation function score query to find similar movies, ranked by cosine similarity\n",
    "    \"\"\"\n",
    "    response = es.get(index=index, doc_type='doc', id=the_id)\n",
    "    src = response['_source']\n",
    "    if '@model' in src and 'factor' in src['@model']:\n",
    "        raw_vec = src['@model']['factor']\n",
    "        # our script actually uses the list form for the query vector and handles conversion internally\n",
    "        query_vec = reverse_convert(raw_vec)\n",
    "        q = fn_query(query_vec, q=q, cosine=True)\n",
    "        results = es.search(index, body=q)\n",
    "        hits = results['hits']['hits']\n",
    "        return src, hits[1:num+1]\n",
    "    \n",
    "    \n",
    "def get_user_recs(the_id, q=\"*\", num=10, index_user=\"users\", index_movie=\"movies\"):\n",
    "    \"\"\"\n",
    "    Given a user id, execute the recommendation function score query to find top movies, ranked by predicted rating\n",
    "    \"\"\"\n",
    "    response = es.get(index=index_user, doc_type='doc', id=the_id)\n",
    "    src = response['_source']\n",
    "    if '@model' in src and 'factor' in src['@model']:\n",
    "        raw_vec = src['@model']['factor']\n",
    "        # our script actually uses the list form for the query vector and handles conversion internally\n",
    "        query_vec = reverse_convert(raw_vec)\n",
    "        q = fn_query(query_vec, q=q, cosine=False)\n",
    "        results = es.search(index_movie, body=q)\n",
    "        hits = results['hits']['hits']\n",
    "        return src, hits[:num]\n",
    "\n",
    "def get_movies_for_user(the_id, num=10, index_rating=\"ratings\", index_movie=\"movies\"):\n",
    "    \"\"\"\n",
    "    Given a user id, get the movies rated by that user, from highest- to lowest-rated.\n",
    "    \"\"\"\n",
    "    response = es.search(index=index_rating, q=\"userId:%s\" % the_id, size=num, sort=[\"rating:desc\"])\n",
    "    hits = response['hits']['hits']\n",
    "    ids = [h['_source']['movieId'] for h in hits]\n",
    "    movies = es.mget(body={\"ids\": ids}, index=index_movie, _source_include=['tmdbId', 'title'])\n",
    "    movies_hits = movies['docs']\n",
    "    tmdbids = [h['_source'] for h in movies_hits]\n",
    "    return tmdbids\n",
    "\n",
    "            \n",
    "def display_user_recs(the_id, q=\"*\", num=10, num_last=10):\n",
    "    user, recs = get_user_recs(the_id, q, num)\n",
    "    user_movies = get_movies_for_user(the_id, num_last)\n",
    "    # check that posters can be displayed\n",
    "    first_movie = user_movies[0]\n",
    "    first_im_url = get_poster_url(first_movie['tmdbId'])\n",
    "    if first_im_url == \"NA\":\n",
    "        display(HTML(\"<i>Cannot import tmdbsimple. No movie posters will be displayed!</i>\"))\n",
    "    if first_im_url == \"KEY_ERR\":\n",
    "        display(HTML(\"<i>Key error accessing TMDb API. Check your API key. No movie posters will be displayed!</i>\"))\n",
    "        \n",
    "    # display the movies that this user has rated highly\n",
    "    display(HTML(\"<h2>Get recommended movies for user id %s</h2>\" % the_id))\n",
    "    display(HTML(\"<h4>The user has rated the following movies highly:</h4>\"))\n",
    "    user_html = \"<table border=0>\"\n",
    "    i = 0\n",
    "    for movie in user_movies:\n",
    "        movie_im_url = get_poster_url(movie['tmdbId'])\n",
    "        movie_title = movie['title']\n",
    "        user_html += \"<td><h5>%s</h5><img src=%s width=150></img></td>\" % (movie_title, movie_im_url)\n",
    "        i += 1\n",
    "        if i % 5 == 0:\n",
    "            user_html += \"</tr><tr>\"\n",
    "    user_html += \"</tr></table>\"\n",
    "    display(HTML(user_html))\n",
    "    # now display the recommended movies for the user\n",
    "    display(HTML(\"<br>\"))\n",
    "    display(HTML(\"<h2>Recommended movies:</h2>\"))\n",
    "    rec_html = \"<table border=0>\"\n",
    "    i = 0\n",
    "    for rec in recs:\n",
    "        r_im_url = get_poster_url(rec['_source']['tmdbId'])\n",
    "        r_score = rec['_score']\n",
    "        r_title = rec['_source']['title']\n",
    "        rec_html += \"<td><h5>%s</h5><img src=%s width=150></img></td><td><h5>%2.3f</h5></td>\" % (r_title, r_im_url, r_score)\n",
    "        i += 1\n",
    "        if i % 5 == 0:\n",
    "            rec_html += \"</tr><tr>\"\n",
    "    rec_html += \"</tr></table>\"\n",
    "    display(HTML(rec_html))\n",
    "\n",
    "    \n",
    "def display_similar(the_id, q=\"*\", num=10, index=\"movies\"):\n",
    "    \"\"\"\n",
    "    Display query movie, together with similar movies and similarity scores, in a table\n",
    "    \"\"\"\n",
    "    movie, recs = get_similar(the_id, q, num, index)\n",
    "    q_im_url = get_poster_url(movie['tmdbId'])\n",
    "    if q_im_url == \"NA\":\n",
    "        display(HTML(\"<i>Cannot import tmdbsimple. No movie posters will be displayed!</i>\"))\n",
    "    if q_im_url == \"KEY_ERR\":\n",
    "        display(HTML(\"<i>Key error accessing TMDb API. Check your API key. No movie posters will be displayed!</i>\"))\n",
    "        \n",
    "    display(HTML(\"<h2>Get similar movies for:</h2>\"))\n",
    "    display(HTML(\"<h4>%s</h4>\" % movie['title']))\n",
    "    if q_im_url != \"NA\":\n",
    "        display(Image(q_im_url, width=200))\n",
    "    display(HTML(\"<br>\"))\n",
    "    display(HTML(\"<h2>People who liked this movie also liked these:</h2>\"))\n",
    "    sim_html = \"<table border=0>\"\n",
    "    i = 0\n",
    "    for rec in recs:\n",
    "        r_im_url = get_poster_url(rec['_source']['tmdbId'])\n",
    "        r_score = rec['_score']\n",
    "        r_title = rec['_source']['title']\n",
    "        sim_html += \"<td><h5>%s</h5><img src=%s width=150></img></td><td><h5>%2.3f</h5></td>\" % (r_title, r_im_url, r_score)\n",
    "        i += 1\n",
    "        if i % 5 == 0:\n",
    "            sim_html += \"</tr><tr>\"\n",
    "    sim_html += \"</tr></table>\"\n",
    "    display(HTML(sim_html))"
   ]
  },
  {
   "cell_type": "markdown",
   "metadata": {},
   "source": [
    "### 5(a) Find similar movies for a given movie\n",
    "\n",
    "Using this similarity we can show recommendations along the lines of _people who liked this movie also liked these_."
   ]
  },
  {
   "cell_type": "code",
   "execution_count": 89,
   "metadata": {
    "scrolled": false
   },
   "outputs": [
    {
     "data": {
      "text/html": [
       "<h2>Get similar movies for:</h2>"
      ],
      "text/plain": [
       "<IPython.core.display.HTML object>"
      ]
     },
     "metadata": {},
     "output_type": "display_data"
    },
    {
     "data": {
      "text/html": [
       "<h4>Rudy</h4>"
      ],
      "text/plain": [
       "<IPython.core.display.HTML object>"
      ]
     },
     "metadata": {},
     "output_type": "display_data"
    },
    {
     "data": {
      "image/jpeg": "[encoded data removed]",
      "text/plain": [
       "<IPython.core.display.Image object>"
      ]
     },
     "metadata": {
      "image/jpeg": {
       "width": 200
      }
     },
     "output_type": "display_data"
    },
    {
     "data": {
      "text/html": [
       "<br>"
      ],
      "text/plain": [
       "<IPython.core.display.HTML object>"
      ]
     },
     "metadata": {},
     "output_type": "display_data"
    },
    {
     "data": {
      "text/html": [
       "<h2>People who liked this movie also liked these:</h2>"
      ],
      "text/plain": [
       "<IPython.core.display.HTML object>"
      ]
     },
     "metadata": {},
     "output_type": "display_data"
    },
    {
     "data": {
      "text/html": [
       "<table border=0><td><h5>Bloodmoney</h5><img src=https://image.tmdb.org/t/p/w500/obVu4ZsXad7eU3vkYvp7VEtXRqL.jpg width=150></img></td><td><h5>0.852</h5></td><td><h5>Midsummer (Midsommer)</h5><img src=https://image.tmdb.org/t/p/w500/rnypzzV2WDbHQkteEnpF0SsLlbT.jpg width=150></img></td><td><h5>0.852</h5></td><td><h5>Elvis on Tour</h5><img src=https://image.tmdb.org/t/p/w500/hXxKJuQnkwFtWvOX161ppbaiaC2.jpg width=150></img></td><td><h5>0.844</h5></td><td><h5>Planet Ocean</h5><img src=https://image.tmdb.org/t/p/w500/ivTFmRUesma9MxEReRqs555NCew.jpg width=150></img></td><td><h5>0.844</h5></td><td><h5>Million Dollar Arm</h5><img src=https://image.tmdb.org/t/p/w500/rYOQL42cDdsbhfgaxeEW4SlszUp.jpg width=150></img></td><td><h5>0.843</h5></td></tr><tr></tr></table>"
      ],
      "text/plain": [
       "<IPython.core.display.HTML object>"
      ]
     },
     "metadata": {},
     "output_type": "display_data"
    }
   ],
   "source": [
    "display_similar(524, num=5)"
   ]
  },
  {
   "cell_type": "markdown",
   "metadata": {},
   "source": [
    "Now we will see the power and flexibility that comes from using a search engine to generate recommendations. Elasticsearch allows us to tweak the results returned by the recommendation query using any standard search query or filter - from free text search through to filters based on time and geo-location.\n",
    "\n",
    "For example, perhaps we want to remove any movies with \"Ocean\" in the title from the recommendations. We can do this by simply passing a valid Elasticsearch query string to the recommendation function."
   ]
  },
  {
   "cell_type": "code",
   "execution_count": 90,
   "metadata": {
    "scrolled": false
   },
   "outputs": [
    {
     "data": {
      "text/html": [
       "<h2>Get similar movies for:</h2>"
      ],
      "text/plain": [
       "<IPython.core.display.HTML object>"
      ]
     },
     "metadata": {},
     "output_type": "display_data"
    },
    {
     "data": {
      "text/html": [
       "<h4>Rudy</h4>"
      ],
      "text/plain": [
       "<IPython.core.display.HTML object>"
      ]
     },
     "metadata": {},
     "output_type": "display_data"
    },
    {
     "data": {
      "image/jpeg": "[encoded data removed]",
      "text/plain": [
       "<IPython.core.display.Image object>"
      ]
     },
     "metadata": {
      "image/jpeg": {
       "width": 200
      }
     },
     "output_type": "display_data"
    },
    {
     "data": {
      "text/html": [
       "<br>"
      ],
      "text/plain": [
       "<IPython.core.display.HTML object>"
      ]
     },
     "metadata": {},
     "output_type": "display_data"
    },
    {
     "data": {
      "text/html": [
       "<h2>People who liked this movie also liked these:</h2>"
      ],
      "text/plain": [
       "<IPython.core.display.HTML object>"
      ]
     },
     "metadata": {},
     "output_type": "display_data"
    },
    {
     "data": {
      "text/html": [
       "<table border=0><td><h5>Bloodmoney</h5><img src=https://image.tmdb.org/t/p/w500/obVu4ZsXad7eU3vkYvp7VEtXRqL.jpg width=150></img></td><td><h5>0.852</h5></td><td><h5>Midsummer (Midsommer)</h5><img src=https://image.tmdb.org/t/p/w500/rnypzzV2WDbHQkteEnpF0SsLlbT.jpg width=150></img></td><td><h5>0.852</h5></td><td><h5>Elvis on Tour</h5><img src=https://image.tmdb.org/t/p/w500/hXxKJuQnkwFtWvOX161ppbaiaC2.jpg width=150></img></td><td><h5>0.844</h5></td><td><h5>Million Dollar Arm</h5><img src=https://image.tmdb.org/t/p/w500/rYOQL42cDdsbhfgaxeEW4SlszUp.jpg width=150></img></td><td><h5>0.843</h5></td><td><h5>School Ties</h5><img src=https://image.tmdb.org/t/p/w500/poV3j71mcmQkmjezc2H35xJsAhD.jpg width=150></img></td><td><h5>0.842</h5></td></tr><tr></tr></table>"
      ],
      "text/plain": [
       "<IPython.core.display.HTML object>"
      ]
     },
     "metadata": {},
     "output_type": "display_data"
    }
   ],
   "source": [
    "display_similar(524, num=5, q=\"title:(NOT Ocean)\")"
   ]
  },
  {
   "cell_type": "markdown",
   "metadata": {},
   "source": [
    "Or we'd like to ensure that only Drama movies are shown to us."
   ]
  },
  {
   "cell_type": "code",
   "execution_count": 93,
   "metadata": {
    "scrolled": false
   },
   "outputs": [
    {
     "data": {
      "text/html": [
       "<h2>Get similar movies for:</h2>"
      ],
      "text/plain": [
       "<IPython.core.display.HTML object>"
      ]
     },
     "metadata": {},
     "output_type": "display_data"
    },
    {
     "data": {
      "text/html": [
       "<h4>Forrest Gump</h4>"
      ],
      "text/plain": [
       "<IPython.core.display.HTML object>"
      ]
     },
     "metadata": {},
     "output_type": "display_data"
    },
    {
     "data": {
      "image/jpeg": "[encoded data removed]",
      "text/plain": [
       "<IPython.core.display.Image object>"
      ]
     },
     "metadata": {
      "image/jpeg": {
       "width": 200
      }
     },
     "output_type": "display_data"
    },
    {
     "data": {
      "text/html": [
       "<br>"
      ],
      "text/plain": [
       "<IPython.core.display.HTML object>"
      ]
     },
     "metadata": {},
     "output_type": "display_data"
    },
    {
     "data": {
      "text/html": [
       "<h2>People who liked this movie also liked these:</h2>"
      ],
      "text/plain": [
       "<IPython.core.display.HTML object>"
      ]
     },
     "metadata": {},
     "output_type": "display_data"
    },
    {
     "data": {
      "text/html": [
       "<table border=0><td><h5>Dog Tags</h5><img src=https://image.tmdb.org/t/p/w500/92zCi1nFRs4XBPk4k0WUVkP0AsX.jpg width=150></img></td><td><h5>0.871</h5></td><td><h5>Rain Man</h5><img src=https://image.tmdb.org/t/p/w500/vllKYkA7eYi2UMM9yWQ1JegefBh.jpg width=150></img></td><td><h5>0.867</h5></td><td><h5>Sealed Verdict</h5><img src=https://image.tmdb.org/t/p/w500/d1ZeddWf95LqsXgvYIQoYWhphq1.jpg width=150></img></td><td><h5>0.867</h5></td><td><h5>Pursuit of Happyness, The</h5><img src=https://image.tmdb.org/t/p/w500/iMNp6gTeDBXbzjKRNYtorxZ76G2.jpg width=150></img></td><td><h5>0.863</h5></td><td><h5>Vibrator</h5><img src=https://image.tmdb.org/t/p/w500/mb0ONIUid0BertT0iFC0JZg8X7S.jpg width=150></img></td><td><h5>0.850</h5></td></tr><tr></tr></table>"
      ],
      "text/plain": [
       "<IPython.core.display.HTML object>"
      ]
     },
     "metadata": {},
     "output_type": "display_data"
    }
   ],
   "source": [
    "display_similar(356, num=5, q=\"genres:Drama\")"
   ]
  },
  {
   "cell_type": "markdown",
   "metadata": {
    "collapsed": true
   },
   "source": [
    "### 5(b) Find movies to recommend to a user\n",
    "\n",
    "It's time to generate some movie recommendations, personalized for a specific user.\n"
   ]
  },
  {
   "cell_type": "code",
   "execution_count": 97,
   "metadata": {},
   "outputs": [
    {
     "data": {
      "text/html": [
       "<h2>Get recommended movies for user id 1</h2>"
      ],
      "text/plain": [
       "<IPython.core.display.HTML object>"
      ]
     },
     "metadata": {},
     "output_type": "display_data"
    },
    {
     "data": {
      "text/html": [
       "<h4>The user has rated the following movies highly:</h4>"
      ],
      "text/plain": [
       "<IPython.core.display.HTML object>"
      ]
     },
     "metadata": {},
     "output_type": "display_data"
    },
    {
     "data": {
      "text/html": [
       "<table border=0><td><h5>Weird Science</h5><img src=https://image.tmdb.org/t/p/w500/AsFxOHwUlK7mTOkC5p6SySsdEjz.jpg width=150></img></td><td><h5>Better Off Dead...</h5><img src=https://image.tmdb.org/t/p/w500/urpEd0gVcDa6Enl6T2HO9BxjeKI.jpg width=150></img></td><td><h5>Waiting for Guffman</h5><img src=https://image.tmdb.org/t/p/w500/4rjbIRSS5DZAmyMzCgKnsC89LOB.jpg width=150></img></td><td><h5>Do the Right Thing</h5><img src=https://image.tmdb.org/t/p/w500/63rmSDPahrH7C1gEFYzRuIBAN9W.jpg width=150></img></td><td><h5>¡Three Amigos!</h5><img src=https://image.tmdb.org/t/p/w500/zuTwahw966MoFwD7B2SFujaT5yp.jpg width=150></img></td></tr><tr></tr></table>"
      ],
      "text/plain": [
       "<IPython.core.display.HTML object>"
      ]
     },
     "metadata": {},
     "output_type": "display_data"
    },
    {
     "data": {
      "text/html": [
       "<br>"
      ],
      "text/plain": [
       "<IPython.core.display.HTML object>"
      ]
     },
     "metadata": {},
     "output_type": "display_data"
    },
    {
     "data": {
      "text/html": [
       "<h2>Recommended movies:</h2>"
      ],
      "text/plain": [
       "<IPython.core.display.HTML object>"
      ]
     },
     "metadata": {},
     "output_type": "display_data"
    },
    {
     "data": {
      "text/html": [
       "<table border=0><td><h5>UFO - Distruggete base Luna!</h5><img src=https://image.tmdb.org/t/p/w500/fsVQhIJMYe0wTYrBQ2Yy1kvoi3W.jpg width=150></img></td><td><h5>6.833</h5></td><td><h5>District, The (Nyócker!)</h5><img src=https://image.tmdb.org/t/p/w500/g6txS1fIUVXKMInD9Fmo0uFEuyk.jpg width=150></img></td><td><h5>5.702</h5></td><td><h5>Cuisine et dépendances</h5><img src=https://image.tmdb.org/t/p/w500/b5czH5faR0vKKKXBnddiZvtxtu5.jpg width=150></img></td><td><h5>5.631</h5></td><td><h5>A Fat Wreck</h5><img src=https://image.tmdb.org/t/p/w500/9ibUnVKvvfvixDWMYqZHK2TdrMn.jpg width=150></img></td><td><h5>5.611</h5></td><td><h5>The Postman's White Nights</h5><img src=https://image.tmdb.org/t/p/w500/4oGXORt06TvdkTCPE7JJ5xykG0j.jpg width=150></img></td><td><h5>5.441</h5></td></tr><tr></tr></table>"
      ],
      "text/plain": [
       "<IPython.core.display.HTML object>"
      ]
     },
     "metadata": {},
     "output_type": "display_data"
    }
   ],
   "source": [
    "display_user_recs(1, num=5, num_last=5)"
   ]
  },
  {
   "cell_type": "markdown",
   "metadata": {},
   "source": [
    "In this case, we only want to recommend more recent movies (release year after 2012)."
   ]
  },
  {
   "cell_type": "code",
   "execution_count": 95,
   "metadata": {
    "scrolled": false
   },
   "outputs": [
    {
     "data": {
      "text/html": [
       "<h2>Get recommended movies for user id 1</h2>"
      ],
      "text/plain": [
       "<IPython.core.display.HTML object>"
      ]
     },
     "metadata": {},
     "output_type": "display_data"
    },
    {
     "data": {
      "text/html": [
       "<h4>The user has rated the following movies highly:</h4>"
      ],
      "text/plain": [
       "<IPython.core.display.HTML object>"
      ]
     },
     "metadata": {},
     "output_type": "display_data"
    },
    {
     "data": {
      "text/html": [
       "<table border=0><td><h5>Weird Science</h5><img src=https://image.tmdb.org/t/p/w500/AsFxOHwUlK7mTOkC5p6SySsdEjz.jpg width=150></img></td><td><h5>Better Off Dead...</h5><img src=https://image.tmdb.org/t/p/w500/urpEd0gVcDa6Enl6T2HO9BxjeKI.jpg width=150></img></td><td><h5>Waiting for Guffman</h5><img src=https://image.tmdb.org/t/p/w500/4rjbIRSS5DZAmyMzCgKnsC89LOB.jpg width=150></img></td><td><h5>Do the Right Thing</h5><img src=https://image.tmdb.org/t/p/w500/63rmSDPahrH7C1gEFYzRuIBAN9W.jpg width=150></img></td><td><h5>¡Three Amigos!</h5><img src=https://image.tmdb.org/t/p/w500/zuTwahw966MoFwD7B2SFujaT5yp.jpg width=150></img></td></tr><tr></tr></table>"
      ],
      "text/plain": [
       "<IPython.core.display.HTML object>"
      ]
     },
     "metadata": {},
     "output_type": "display_data"
    },
    {
     "data": {
      "text/html": [
       "<br>"
      ],
      "text/plain": [
       "<IPython.core.display.HTML object>"
      ]
     },
     "metadata": {},
     "output_type": "display_data"
    },
    {
     "data": {
      "text/html": [
       "<h2>Recommended movies:</h2>"
      ],
      "text/plain": [
       "<IPython.core.display.HTML object>"
      ]
     },
     "metadata": {},
     "output_type": "display_data"
    },
    {
     "data": {
      "text/html": [
       "<table border=0><td><h5>A Fat Wreck</h5><img src=https://image.tmdb.org/t/p/w500/9ibUnVKvvfvixDWMYqZHK2TdrMn.jpg width=150></img></td><td><h5>5.611</h5></td><td><h5>The Postman's White Nights</h5><img src=https://image.tmdb.org/t/p/w500/4oGXORt06TvdkTCPE7JJ5xykG0j.jpg width=150></img></td><td><h5>5.441</h5></td><td><h5>Love Is Blind</h5><img src=https://image.tmdb.org/t/p/w500/pkKYLe3NNrbO10POQZSRZSqOamV.jpg width=150></img></td><td><h5>5.407</h5></td><td><h5>Maria Bamford: The Special Special Special!</h5><img src=https://image.tmdb.org/t/p/w500/x3oMuJQdkOMVzkS6FoJd6BDa1G7.jpg width=150></img></td><td><h5>5.339</h5></td><td><h5>Everybody in Our Family</h5><img src=https://image.tmdb.org/t/p/w500/vazDs6SKZyprTomY4PYU8nI00Xb.jpg width=150></img></td><td><h5>5.339</h5></td></tr><tr></tr></table>"
      ],
      "text/plain": [
       "<IPython.core.display.HTML object>"
      ]
     },
     "metadata": {},
     "output_type": "display_data"
    }
   ],
   "source": [
    "display_user_recs(1, num=5, num_last=5, q=\"release_date:[2012 TO *]\")"
   ]
  },
  {
   "cell_type": "markdown",
   "metadata": {},
   "source": [
    "## __References:__\n",
    "* [elasticsearch-spark-recommender](https://github.com/IBM/elasticsearch-spark-recommender)"
   ]
  }
 ],
 "metadata": {
  "kernelspec": {
   "display_name": "Python 3",
   "language": "python",
   "name": "python3"
  },
  "language_info": {
   "codemirror_mode": {
    "name": "ipython",
    "version": 3
   },
   "file_extension": ".py",
   "mimetype": "text/x-python",
   "name": "python",
   "nbconvert_exporter": "python",
   "pygments_lexer": "ipython3",
   "version": "3.6.8"
  }
 },
 "nbformat": 4,
 "nbformat_minor": 1
}
